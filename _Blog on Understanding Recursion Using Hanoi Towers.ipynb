{
 "cells": [
  {
   "cell_type": "markdown",
   "id": "0deebd4e",
   "metadata": {},
   "source": [
    "# Recurssion:"
   ]
  },
  {
   "cell_type": "markdown",
   "id": "9694eeb3",
   "metadata": {},
   "source": [
    "Recursion in Python refers to the practice of a function calling itself in order to solve a problem.\n",
    "\n",
    "Recursive functions break down a problem into smaller, more manageable subproblems and solve each subproblem until the original\n",
    "\n",
    "problem is solved. Recursive functions typically have two parts:\n",
    "\n",
    "# Base Case:\n",
    "  This is the simplest scenario where the function does not make a recursive call and returns a result directly. It serves as\n",
    "  \n",
    "  the stopping condition for the recursion to prevent infinite looping.\n",
    "\n",
    "# Recursive Case:\n",
    "   In this part, the function calls itself with modified inputs, typically moving closer to the base case. Each recursive call\n",
    "   \n",
    "   should make progress toward reaching the base case."
   ]
  },
  {
   "cell_type": "markdown",
   "id": "8267922a",
   "metadata": {},
   "source": [
    "![](https://www.edureka.co/blog/wp-content/uploads/2019/08/2019-08-06-12_31_29-Window.png)"
   ]
  },
  {
   "cell_type": "code",
   "execution_count": 21,
   "id": "15d22861",
   "metadata": {},
   "outputs": [
    {
     "name": "stdout",
     "output_type": "stream",
     "text": [
      "The factorial of 5 is 120\n"
     ]
    }
   ],
   "source": [
    "def factorial(x):\n",
    "    #This is a recursive function to find the factorial of an integer\n",
    "\n",
    "    if x == 1:\n",
    "        return 1\n",
    "    else:\n",
    "        return (x * factorial(x-1))\n",
    "\n",
    "\n",
    "n = 5\n",
    "print(\"The factorial of\", n, \"is\", factorial(n))"
   ]
  },
  {
   "cell_type": "code",
   "execution_count": 23,
   "id": "58324c68",
   "metadata": {},
   "outputs": [
    {
     "name": "stdout",
     "output_type": "stream",
     "text": [
      "The factorial of 4 is 24\n"
     ]
    }
   ],
   "source": [
    "n = 4\n",
    "print(\"The factorial of\", n, \"is\", factorial(n))"
   ]
  },
  {
   "cell_type": "markdown",
   "id": "352e3cf2",
   "metadata": {},
   "source": [
    "# Hanoi Towers:"
   ]
  },
  {
   "cell_type": "markdown",
   "id": "ee0d6103",
   "metadata": {},
   "source": [
    "The Tower of Hanoi is a classic recursive problem. It consists of three rods and a number of disks of different sizes, which can\n",
    "\n",
    "be slid onto any rod. The puzzle starts with the disks in a neat stack in ascending order of size on one rod, the smallest at \n",
    "\n",
    "the top."
   ]
  },
  {
   "cell_type": "markdown",
   "id": "9594de1f",
   "metadata": {},
   "source": [
    " Towers of Hanoi is a mathematical puzzle where we have three rods and N disks. The objective of the puzzle is to move the \n",
    " \n",
    "   entire stack to another rod , obeying the following simple rules:\n",
    "   \n",
    "1.Only one disk can be moved at a time.\n",
    "\n",
    "\n",
    "2.Each move consists of taking the upper disk from one of the stacks and placing it on top of another\n",
    "\n",
    "   stack i.e. a disk can only be moved if it is the uppermost disk on a stack.\n",
    "   \n",
    "   \n",
    "3.No disk may be placed on top of a smaller disk.\n",
    "\n",
    "   "
   ]
  },
  {
   "cell_type": "markdown",
   "id": "6a1c058c",
   "metadata": {},
   "source": [
    "![](https://miro.medium.com/v2/resize:fit:474/1*vVL-OD3M5iCR2HcuXwuD9g.jpeg)"
   ]
  },
  {
   "cell_type": "code",
   "execution_count": 11,
   "id": "30160ffd",
   "metadata": {},
   "outputs": [],
   "source": [
    "a='STEP1'\n",
    "b='STEP2'\n",
    "c='STEP3'\n",
    "def hanoi(n,a,b,c):\n",
    "    if n==1:\n",
    "        print(\"moves 1st disk from\", a,\"to the\", c)\n",
    "        return\n",
    "    honoi(n-1, a, c, b)\n",
    "    print(\"move \",n,\"th disk from\", a, \"to the\", c)\n",
    "    honoi(n-1, b, a, c)    \n",
    "        "
   ]
  },
  {
   "cell_type": "code",
   "execution_count": 26,
   "id": "cbaee26a",
   "metadata": {},
   "outputs": [
    {
     "name": "stdout",
     "output_type": "stream",
     "text": [
      "moves 1st disc from Tower A to the Tower C\n",
      "move  2 th disc from Tower A to the Tower B\n",
      "moves 1st disc from Tower C to the Tower B\n",
      "move  3 th disk from Tower A to the Tower C\n",
      "moves 1st disc from Tower B to the Tower A\n",
      "move  2 th disc from Tower B to the Tower C\n",
      "moves 1st disc from Tower A to the Tower C\n"
     ]
    }
   ],
   "source": [
    "hanoi(3,a,b,c)"
   ]
  },
  {
   "cell_type": "code",
   "execution_count": null,
   "id": "0b6e4eff",
   "metadata": {},
   "outputs": [],
   "source": []
  }
 ],
 "metadata": {
  "kernelspec": {
   "display_name": "Python 3 (ipykernel)",
   "language": "python",
   "name": "python3"
  },
  "language_info": {
   "codemirror_mode": {
    "name": "ipython",
    "version": 3
   },
   "file_extension": ".py",
   "mimetype": "text/x-python",
   "name": "python",
   "nbconvert_exporter": "python",
   "pygments_lexer": "ipython3",
   "version": "3.11.3"
  }
 },
 "nbformat": 4,
 "nbformat_minor": 5
}
