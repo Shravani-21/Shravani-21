{
 "cells": [
  {
   "cell_type": "markdown",
   "id": "336f138b",
   "metadata": {},
   "source": [
    "# Mutable"
   ]
  },
  {
   "cell_type": "markdown",
   "id": "33c0a2fb",
   "metadata": {},
   "source": [
    "x=Data type\n",
    "\n",
    "    altering the value and this new updation reflects in the same memory location is called \"Mutable\"\n",
    "    \n",
    "    Ex: Sets,Lists,Dictionaries"
   ]
  },
  {
   "cell_type": "markdown",
   "id": "7a8563e2",
   "metadata": {},
   "source": [
    "# Strings"
   ]
  },
  {
   "cell_type": "code",
   "execution_count": 1,
   "id": "63669dcc",
   "metadata": {},
   "outputs": [
    {
     "name": "stdout",
     "output_type": "stream",
     "text": [
      "this is a string enclosed in a single quote\n",
      "this is a string enclosed in a double quote\n",
      "this is a  multiline string \n",
      "enclosed in a triple single quote\n"
     ]
    }
   ],
   "source": [
    "s1='this is a string enclosed in a single quote'\n",
    "s2='this is a string enclosed in a double quote'\n",
    "s3='''this is a  multiline string \n",
    "enclosed in a triple single quote'''\n",
    "print(s1,s2,s3,sep='\\n')"
   ]
  },
  {
   "cell_type": "markdown",
   "id": "58fcdef5",
   "metadata": {},
   "source": [
    "# Indexing"
   ]
  },
  {
   "cell_type": "code",
   "execution_count": 85,
   "id": "d317d985",
   "metadata": {},
   "outputs": [
    {
     "name": "stderr",
     "output_type": "stream",
     "text": [
      "'[\"https://encrypted-tbn0.gstatic.com/images?q=tbn:ANd9GcR4F2ncLxmXzcSwctLZMCtBEGDM9n9p8RFbmQ&usqp=CAU\"]' is not recognized as an internal or external command,\n",
      "operable program or batch file.\n"
     ]
    }
   ],
   "source": [
    "![]()"
   ]
  },
  {
   "cell_type": "markdown",
   "id": "87f6b595",
   "metadata": {},
   "source": [
    "x='my name is shravani'\n",
    "\n",
    "positive indexing 0 1 2 3 4 5 6 7 8 9 10 11 12 13 14 15 16 17 18 \n",
    "\n",
    "Negative indexing -1 -2 -3 -4 -5 -6 -7 -8 -9 -10 -11 -12 -13 -14 -15 -16 -17 -18 -19"
   ]
  },
  {
   "cell_type": "markdown",
   "id": "fa5fbd15",
   "metadata": {},
   "source": [
    "# Slicing"
   ]
  },
  {
   "cell_type": "code",
   "execution_count": 9,
   "id": "7d036439",
   "metadata": {},
   "outputs": [
    {
     "name": "stdout",
     "output_type": "stream",
     "text": [
      "ata\n",
      "en\n",
      "cS a\n"
     ]
    }
   ],
   "source": [
    "x='Data Science'\n",
    "print(x[1:4:1])\n",
    "print(x[-1:-4:-2])\n",
    "print(x[-6:-10:-1])"
   ]
  },
  {
   "cell_type": "markdown",
   "id": "4917cef3",
   "metadata": {},
   "source": [
    "# String Concatination"
   ]
  },
  {
   "cell_type": "code",
   "execution_count": 10,
   "id": "1a5483c6",
   "metadata": {},
   "outputs": [
    {
     "data": {
      "text/plain": [
       "'Good Morning Everyone'"
      ]
     },
     "execution_count": 10,
     "metadata": {},
     "output_type": "execute_result"
    }
   ],
   "source": [
    "x='Good Morning '\n",
    "y='Everyone'\n",
    "x+y\n"
   ]
  },
  {
   "cell_type": "code",
   "execution_count": 27,
   "id": "1b417eb3",
   "metadata": {},
   "outputs": [
    {
     "name": "stdout",
     "output_type": "stream",
     "text": [
      "hellohello\n",
      "hellohellohellohellohello\n"
     ]
    }
   ],
   "source": [
    "x='hello'\n",
    "print(x+x)\n",
    "print(x*5)"
   ]
  },
  {
   "cell_type": "markdown",
   "id": "93902619",
   "metadata": {},
   "source": [
    "# Concatination and Slicing"
   ]
  },
  {
   "cell_type": "code",
   "execution_count": 25,
   "id": "05548d2b",
   "metadata": {},
   "outputs": [
    {
     "name": "stdout",
     "output_type": "stream",
     "text": [
      "hca\n",
      "ei\n"
     ]
    }
   ],
   "source": [
    "x='Machine Learning'\n",
    "print(x[1:4][::-1])\n",
    "print(x[3:8:1][-2:-8:-2])"
   ]
  },
  {
   "cell_type": "code",
   "execution_count": 28,
   "id": "cf160551",
   "metadata": {},
   "outputs": [
    {
     "name": "stdout",
     "output_type": "stream",
     "text": [
      "True False\n"
     ]
    }
   ],
   "source": [
    "x='Artificial Intelligence'\n",
    "print('Artificial'in x,'artificial'in x)"
   ]
  },
  {
   "cell_type": "code",
   "execution_count": 29,
   "id": "94aa21e9",
   "metadata": {},
   "outputs": [
    {
     "name": "stdout",
     "output_type": "stream",
     "text": [
      "Artificial Intelligence\n"
     ]
    }
   ],
   "source": [
    "print(x)"
   ]
  },
  {
   "cell_type": "code",
   "execution_count": 30,
   "id": "04b99a02",
   "metadata": {},
   "outputs": [
    {
     "data": {
      "text/plain": [
       "23"
      ]
     },
     "execution_count": 30,
     "metadata": {},
     "output_type": "execute_result"
    }
   ],
   "source": [
    "len(x)"
   ]
  },
  {
   "cell_type": "markdown",
   "id": "51a11ca9",
   "metadata": {},
   "source": [
    "# Methods in string"
   ]
  },
  {
   "cell_type": "code",
   "execution_count": 34,
   "id": "be7ee477",
   "metadata": {},
   "outputs": [
    {
     "data": {
      "text/plain": [
       "['__add__',\n",
       " '__class__',\n",
       " '__contains__',\n",
       " '__delattr__',\n",
       " '__dir__',\n",
       " '__doc__',\n",
       " '__eq__',\n",
       " '__format__',\n",
       " '__ge__',\n",
       " '__getattribute__',\n",
       " '__getitem__',\n",
       " '__getnewargs__',\n",
       " '__getstate__',\n",
       " '__gt__',\n",
       " '__hash__',\n",
       " '__init__',\n",
       " '__init_subclass__',\n",
       " '__iter__',\n",
       " '__le__',\n",
       " '__len__',\n",
       " '__lt__',\n",
       " '__mod__',\n",
       " '__mul__',\n",
       " '__ne__',\n",
       " '__new__',\n",
       " '__reduce__',\n",
       " '__reduce_ex__',\n",
       " '__repr__',\n",
       " '__rmod__',\n",
       " '__rmul__',\n",
       " '__setattr__',\n",
       " '__sizeof__',\n",
       " '__str__',\n",
       " '__subclasshook__',\n",
       " 'capitalize',\n",
       " 'casefold',\n",
       " 'center',\n",
       " 'count',\n",
       " 'encode',\n",
       " 'endswith',\n",
       " 'expandtabs',\n",
       " 'find',\n",
       " 'format',\n",
       " 'format_map',\n",
       " 'index',\n",
       " 'isalnum',\n",
       " 'isalpha',\n",
       " 'isascii',\n",
       " 'isdecimal',\n",
       " 'isdigit',\n",
       " 'isidentifier',\n",
       " 'islower',\n",
       " 'isnumeric',\n",
       " 'isprintable',\n",
       " 'isspace',\n",
       " 'istitle',\n",
       " 'isupper',\n",
       " 'join',\n",
       " 'ljust',\n",
       " 'lower',\n",
       " 'lstrip',\n",
       " 'maketrans',\n",
       " 'partition',\n",
       " 'removeprefix',\n",
       " 'removesuffix',\n",
       " 'replace',\n",
       " 'rfind',\n",
       " 'rindex',\n",
       " 'rjust',\n",
       " 'rpartition',\n",
       " 'rsplit',\n",
       " 'rstrip',\n",
       " 'split',\n",
       " 'splitlines',\n",
       " 'startswith',\n",
       " 'strip',\n",
       " 'swapcase',\n",
       " 'title',\n",
       " 'translate',\n",
       " 'upper',\n",
       " 'zfill']"
      ]
     },
     "execution_count": 34,
     "metadata": {},
     "output_type": "execute_result"
    }
   ],
   "source": [
    "dir(x)\n"
   ]
  },
  {
   "cell_type": "code",
   "execution_count": 35,
   "id": "19846f12",
   "metadata": {},
   "outputs": [
    {
     "data": {
      "text/plain": [
       "23"
      ]
     },
     "execution_count": 35,
     "metadata": {},
     "output_type": "execute_result"
    }
   ],
   "source": [
    "len(x)"
   ]
  },
  {
   "cell_type": "markdown",
   "id": "19993594",
   "metadata": {},
   "source": [
    "# Replace"
   ]
  },
  {
   "cell_type": "code",
   "execution_count": 36,
   "id": "da1201b8",
   "metadata": {},
   "outputs": [
    {
     "name": "stdout",
     "output_type": "stream",
     "text": [
      "Help on built-in function replace:\n",
      "\n",
      "replace(old, new, count=-1, /) method of builtins.str instance\n",
      "    Return a copy with all occurrences of substring old replaced by new.\n",
      "    \n",
      "      count\n",
      "        Maximum number of occurrences to replace.\n",
      "        -1 (the default value) means replace all occurrences.\n",
      "    \n",
      "    If the optional argument count is given, only the first count occurrences are\n",
      "    replaced.\n",
      "\n"
     ]
    }
   ],
   "source": [
    "help(x.replace)"
   ]
  },
  {
   "cell_type": "code",
   "execution_count": 37,
   "id": "be1d8f89",
   "metadata": {},
   "outputs": [
    {
     "data": {
      "text/plain": [
       "'Ktatistics'"
      ]
     },
     "execution_count": 37,
     "metadata": {},
     "output_type": "execute_result"
    }
   ],
   "source": [
    "x='Statistics'\n",
    "x.replace('S','K')"
   ]
  },
  {
   "cell_type": "markdown",
   "id": "52c69a3d",
   "metadata": {},
   "source": [
    "# Uppercase"
   ]
  },
  {
   "cell_type": "code",
   "execution_count": 39,
   "id": "62608b79",
   "metadata": {},
   "outputs": [
    {
     "name": "stdout",
     "output_type": "stream",
     "text": [
      "Help on built-in function upper:\n",
      "\n",
      "upper() method of builtins.str instance\n",
      "    Return a copy of the string converted to uppercase.\n",
      "\n"
     ]
    }
   ],
   "source": [
    "help(x.upper)"
   ]
  },
  {
   "cell_type": "code",
   "execution_count": 43,
   "id": "c9889580",
   "metadata": {},
   "outputs": [
    {
     "name": "stdout",
     "output_type": "stream",
     "text": [
      "DATA ANALYSIS\n",
      "Data Analysis\n",
      "Data Analysis\n",
      "DATA ANALYSIS\n"
     ]
    }
   ],
   "source": [
    "x='Data Analysis'\n",
    "a=x.upper()\n",
    "print(a)\n",
    "print(x)\n",
    "print(x,a,sep='\\n')"
   ]
  },
  {
   "cell_type": "markdown",
   "id": "421aa6e3",
   "metadata": {},
   "source": [
    "# Lowercase"
   ]
  },
  {
   "cell_type": "code",
   "execution_count": 44,
   "id": "d3487ae0",
   "metadata": {},
   "outputs": [
    {
     "name": "stdout",
     "output_type": "stream",
     "text": [
      "Help on built-in function lower:\n",
      "\n",
      "lower() method of builtins.str instance\n",
      "    Return a copy of the string converted to lowercase.\n",
      "\n"
     ]
    }
   ],
   "source": [
    "help(x.lower)"
   ]
  },
  {
   "cell_type": "code",
   "execution_count": 45,
   "id": "9bad9c3b",
   "metadata": {},
   "outputs": [
    {
     "name": "stdout",
     "output_type": "stream",
     "text": [
      "deep learning \n",
      "Deep Learning \n",
      "Deep Learning \n",
      "deep learning \n"
     ]
    }
   ],
   "source": [
    "x='Deep Learning '\n",
    "a=x.lower()\n",
    "print(a)\n",
    "print(x)\n",
    "print(x,a,sep='\\n')"
   ]
  },
  {
   "cell_type": "markdown",
   "id": "55b9fdcf",
   "metadata": {},
   "source": [
    "# Title"
   ]
  },
  {
   "cell_type": "code",
   "execution_count": 46,
   "id": "59094e8e",
   "metadata": {},
   "outputs": [
    {
     "name": "stdout",
     "output_type": "stream",
     "text": [
      "Help on built-in function title:\n",
      "\n",
      "title() method of builtins.str instance\n",
      "    Return a version of the string where each word is titlecased.\n",
      "    \n",
      "    More specifically, words start with uppercased characters and all remaining\n",
      "    cased characters have lower case.\n",
      "\n"
     ]
    }
   ],
   "source": [
    "help(x.title)"
   ]
  },
  {
   "cell_type": "code",
   "execution_count": 50,
   "id": "c8682942",
   "metadata": {},
   "outputs": [
    {
     "name": "stdout",
     "output_type": "stream",
     "text": [
      "Computer Vision\n"
     ]
    }
   ],
   "source": [
    "x='computer vision'\n",
    "print(x.title())"
   ]
  },
  {
   "cell_type": "code",
   "execution_count": 51,
   "id": "8988c821",
   "metadata": {},
   "outputs": [
    {
     "name": "stdout",
     "output_type": "stream",
     "text": [
      "Innomatics Research Lab\n"
     ]
    }
   ],
   "source": [
    "x=\"innomatics research lab\"\n",
    "print(x.title())"
   ]
  },
  {
   "cell_type": "code",
   "execution_count": 52,
   "id": "b4058381",
   "metadata": {},
   "outputs": [
    {
     "name": "stdout",
     "output_type": "stream",
     "text": [
      "205 Room Number @123 Innomatics\n"
     ]
    }
   ],
   "source": [
    "x=\"205 room number @123 innomatics\"\n",
    "print(x.title())"
   ]
  },
  {
   "cell_type": "markdown",
   "id": "a2231ceb",
   "metadata": {},
   "source": [
    "# Ordered"
   ]
  },
  {
   "cell_type": "code",
   "execution_count": 57,
   "id": "927a72a5",
   "metadata": {},
   "outputs": [
    {
     "name": "stdout",
     "output_type": "stream",
     "text": [
      "83\n",
      "B\n"
     ]
    }
   ],
   "source": [
    "print(ord('S'))\n",
    "print(chr(ord('b')-32))"
   ]
  },
  {
   "cell_type": "code",
   "execution_count": 58,
   "id": "1637d385",
   "metadata": {},
   "outputs": [
    {
     "name": "stdout",
     "output_type": "stream",
     "text": [
      "109\n",
      "¡\n"
     ]
    }
   ],
   "source": [
    "print(ord('m'))\n",
    "print(chr(ord('k')+54))"
   ]
  },
  {
   "cell_type": "code",
   "execution_count": 60,
   "id": "5796d092",
   "metadata": {},
   "outputs": [
    {
     "name": "stdout",
     "output_type": "stream",
     "text": [
      "107\n",
      "r\n"
     ]
    }
   ],
   "source": [
    "print(ord('k'))\n",
    "print(chr(ord('y')-7))"
   ]
  },
  {
   "cell_type": "markdown",
   "id": "e242f061",
   "metadata": {},
   "source": [
    "# Swapcase"
   ]
  },
  {
   "cell_type": "code",
   "execution_count": 61,
   "id": "2ff7eb91",
   "metadata": {},
   "outputs": [
    {
     "name": "stdout",
     "output_type": "stream",
     "text": [
      "Help on built-in function swapcase:\n",
      "\n",
      "swapcase() method of builtins.str instance\n",
      "    Convert uppercase characters to lowercase and lowercase characters to uppercase.\n",
      "\n"
     ]
    }
   ],
   "source": [
    "help(x.swapcase)"
   ]
  },
  {
   "cell_type": "code",
   "execution_count": 64,
   "id": "e4c4fc0a",
   "metadata": {},
   "outputs": [
    {
     "data": {
      "text/plain": [
       "'HI EVERYONE'"
      ]
     },
     "execution_count": 64,
     "metadata": {},
     "output_type": "execute_result"
    }
   ],
   "source": [
    "x='hi everyone'\n",
    "x.swapcase()"
   ]
  },
  {
   "cell_type": "code",
   "execution_count": 65,
   "id": "bbfca030",
   "metadata": {},
   "outputs": [
    {
     "data": {
      "text/plain": [
       "'gOOD mORNING'"
      ]
     },
     "execution_count": 65,
     "metadata": {},
     "output_type": "execute_result"
    }
   ],
   "source": [
    "x='Good Morning'\n",
    "x.swapcase()"
   ]
  },
  {
   "cell_type": "code",
   "execution_count": 66,
   "id": "6fbb271e",
   "metadata": {},
   "outputs": [
    {
     "data": {
      "text/plain": [
       "'good afternoon'"
      ]
     },
     "execution_count": 66,
     "metadata": {},
     "output_type": "execute_result"
    }
   ],
   "source": [
    "x='GOOD AFTERNOON'\n",
    "x.swapcase()"
   ]
  },
  {
   "cell_type": "markdown",
   "id": "858639d9",
   "metadata": {},
   "source": [
    "# Casefold"
   ]
  },
  {
   "cell_type": "code",
   "execution_count": 67,
   "id": "8ce8babb",
   "metadata": {},
   "outputs": [
    {
     "name": "stdout",
     "output_type": "stream",
     "text": [
      "Help on built-in function casefold:\n",
      "\n",
      "casefold() method of builtins.str instance\n",
      "    Return a version of the string suitable for caseless comparisons.\n",
      "\n"
     ]
    }
   ],
   "source": [
    "help(x.casefold)"
   ]
  },
  {
   "cell_type": "code",
   "execution_count": 71,
   "id": "8aa31cac",
   "metadata": {},
   "outputs": [
    {
     "data": {
      "text/plain": [
       "('ß is a german character', 'ss is a german character')"
      ]
     },
     "execution_count": 71,
     "metadata": {},
     "output_type": "execute_result"
    }
   ],
   "source": [
    "x='ß is a german character'\n",
    "x.lower(),x.casefold()"
   ]
  },
  {
   "cell_type": "code",
   "execution_count": 72,
   "id": "53052306",
   "metadata": {},
   "outputs": [
    {
     "data": {
      "text/plain": [
       "('s is a english character', 's is a english character')"
      ]
     },
     "execution_count": 72,
     "metadata": {},
     "output_type": "execute_result"
    }
   ],
   "source": [
    "x='S is a english character'\n",
    "x.lower(),x.casefold()"
   ]
  },
  {
   "cell_type": "code",
   "execution_count": 73,
   "id": "a125fd2f",
   "metadata": {},
   "outputs": [
    {
     "data": {
      "text/plain": [
       "(' ah is a german char', ' ah is a german char')"
      ]
     },
     "execution_count": 73,
     "metadata": {},
     "output_type": "execute_result"
    }
   ],
   "source": [
    "x=' ah is a german char'\n",
    "x.lower(),x.casefold()"
   ]
  },
  {
   "cell_type": "markdown",
   "id": "469bbc18",
   "metadata": {},
   "source": [
    "# Capitalize"
   ]
  },
  {
   "cell_type": "code",
   "execution_count": 74,
   "id": "e60e5a0e",
   "metadata": {},
   "outputs": [
    {
     "name": "stdout",
     "output_type": "stream",
     "text": [
      "Help on built-in function capitalize:\n",
      "\n",
      "capitalize() method of builtins.str instance\n",
      "    Return a capitalized version of the string.\n",
      "    \n",
      "    More specifically, make the first character have upper case and the rest lower\n",
      "    case.\n",
      "\n"
     ]
    }
   ],
   "source": [
    "help(x.capitalize)"
   ]
  },
  {
   "cell_type": "code",
   "execution_count": 79,
   "id": "336e83ea",
   "metadata": {},
   "outputs": [
    {
     "name": "stdout",
     "output_type": "stream",
     "text": [
      "there are many flowers \n",
      "There are many flowers \n"
     ]
    }
   ],
   "source": [
    "x='there are many flowers '\n",
    "xC=x.capitalize()\n",
    "print(x,xC,sep='\\n')"
   ]
  },
  {
   "cell_type": "code",
   "execution_count": 81,
   "id": "4ad4d4e7",
   "metadata": {},
   "outputs": [
    {
     "name": "stdout",
     "output_type": "stream",
     "text": [
      "123@ play 7it my way\n",
      "123@ play 7it my way\n"
     ]
    }
   ],
   "source": [
    "x='123@ play 7it my way'\n",
    "xC=x.capitalize()\n",
    "print(x,xC,sep='\\n')"
   ]
  },
  {
   "cell_type": "code",
   "execution_count": null,
   "id": "0e57091b",
   "metadata": {},
   "outputs": [],
   "source": []
  }
 ],
 "metadata": {
  "kernelspec": {
   "display_name": "Python 3 (ipykernel)",
   "language": "python",
   "name": "python3"
  },
  "language_info": {
   "codemirror_mode": {
    "name": "ipython",
    "version": 3
   },
   "file_extension": ".py",
   "mimetype": "text/x-python",
   "name": "python",
   "nbconvert_exporter": "python",
   "pygments_lexer": "ipython3",
   "version": "3.11.3"
  }
 },
 "nbformat": 4,
 "nbformat_minor": 5
}
