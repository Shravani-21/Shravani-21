{
 "cells": [
  {
   "cell_type": "markdown",
   "id": "994d65fd",
   "metadata": {},
   "source": [
    " Object Oriented Programming OOP:\n",
    " \n",
    "  Reusablity:\n",
    "  \n",
    "    inheritance\n",
    "    polymorphism\n",
    "    abstraction\n",
    "    encapsalation"
   ]
  },
  {
   "cell_type": "code",
   "execution_count": 1,
   "id": "dd979615",
   "metadata": {},
   "outputs": [],
   "source": [
    "class Trainee():\n",
    "     pass"
   ]
  },
  {
   "cell_type": "code",
   "execution_count": 2,
   "id": "62d71968",
   "metadata": {},
   "outputs": [],
   "source": [
    "x=Trainee()"
   ]
  },
  {
   "cell_type": "code",
   "execution_count": 3,
   "id": "b137dbca",
   "metadata": {},
   "outputs": [
    {
     "name": "stdout",
     "output_type": "stream",
     "text": [
      "<class '__main__.Trainee'>\n"
     ]
    }
   ],
   "source": [
    "print(type(x))"
   ]
  },
  {
   "cell_type": "code",
   "execution_count": 8,
   "id": "2a9ad179",
   "metadata": {},
   "outputs": [],
   "source": [
    "# approach -1\n",
    "x.fullName='Don Bosco'\n",
    "x.bloodGroup='O +ve'"
   ]
  },
  {
   "cell_type": "code",
   "execution_count": 9,
   "id": "2bd8e2b8",
   "metadata": {},
   "outputs": [
    {
     "data": {
      "text/plain": [
       "'Don Bosco'"
      ]
     },
     "execution_count": 9,
     "metadata": {},
     "output_type": "execute_result"
    }
   ],
   "source": [
    "x.fullName"
   ]
  },
  {
   "cell_type": "code",
   "execution_count": 34,
   "id": "cd9652c2",
   "metadata": {},
   "outputs": [],
   "source": [
    "# passing values to attributes using a method\n",
    "class Trainee():\n",
    "    def detailes(self,firstName,lastName,dateOfBirth,bloodGroup):\n",
    "        self.fname=firstName\n",
    "        self.lname=lastName\n",
    "        self.dob=dateOfBirth\n",
    "        self.bg=bloodGroup\n",
    "        self.email=firstName+lastName[0]+dateOfBirth[-2:]+'innomatics.com'\n"
   ]
  },
  {
   "cell_type": "code",
   "execution_count": 35,
   "id": "ee464081",
   "metadata": {},
   "outputs": [],
   "source": [
    "x=Trainee()"
   ]
  },
  {
   "cell_type": "code",
   "execution_count": 36,
   "id": "c4336534",
   "metadata": {},
   "outputs": [
    {
     "ename": "AttributeError",
     "evalue": "'Trainee' object has no attribute 'details'",
     "output_type": "error",
     "traceback": [
      "\u001b[1;31m---------------------------------------------------------------------------\u001b[0m",
      "\u001b[1;31mAttributeError\u001b[0m                            Traceback (most recent call last)",
      "Cell \u001b[1;32mIn[36], line 1\u001b[0m\n\u001b[1;32m----> 1\u001b[0m x\u001b[38;5;241m.\u001b[39mdetails(\u001b[38;5;124m'\u001b[39m\u001b[38;5;124mDon\u001b[39m\u001b[38;5;124m'\u001b[39m,\u001b[38;5;124m'\u001b[39m\u001b[38;5;124mBosco\u001b[39m\u001b[38;5;124m'\u001b[39m,\u001b[38;5;124m'\u001b[39m\u001b[38;5;124m01-01-1999\u001b[39m\u001b[38;5;124m'\u001b[39m,\u001b[38;5;124m'\u001b[39m\u001b[38;5;124mO+ve\u001b[39m\u001b[38;5;124m'\u001b[39m)\n",
      "\u001b[1;31mAttributeError\u001b[0m: 'Trainee' object has no attribute 'details'"
     ]
    }
   ],
   "source": [
    "x.details('Don','Bosco','01-01-1999','O+ve')"
   ]
  },
  {
   "cell_type": "code",
   "execution_count": 45,
   "id": "4c1c2265",
   "metadata": {},
   "outputs": [
    {
     "ename": "AttributeError",
     "evalue": "'Trainee' object has no attribute 'email'",
     "output_type": "error",
     "traceback": [
      "\u001b[1;31m---------------------------------------------------------------------------\u001b[0m",
      "\u001b[1;31mAttributeError\u001b[0m                            Traceback (most recent call last)",
      "Cell \u001b[1;32mIn[45], line 1\u001b[0m\n\u001b[1;32m----> 1\u001b[0m x\u001b[38;5;241m.\u001b[39memail\n",
      "\u001b[1;31mAttributeError\u001b[0m: 'Trainee' object has no attribute 'email'"
     ]
    }
   ],
   "source": [
    "x.email"
   ]
  },
  {
   "cell_type": "code",
   "execution_count": 117,
   "id": "930ff84f",
   "metadata": {},
   "outputs": [],
   "source": [
    "# approach -3 using __int__constructor\n",
    "class Trainee():\n",
    "    '''This a Trainee class which accepts details of the trainee we hired\n",
    "    Good Luck'''\n",
    "    def __init__(self,firstName,lastName,dateOfBirth,bloodGroup):\n",
    "        self.fname=firstName\n",
    "        self.lname=lastName\n",
    "        self.dob=dateOfBirth\n",
    "        self.bg=bloodGroup\n",
    "        self.fullName=self.fname+''+self.lname\n",
    "        self.email=firstName+lastName[0]+dateOfBirth[-2:]+'innomatics.com'\n",
    "        self.email=self.email.lower()\n",
    "        print(f'{self.fullName} is now a hired as Trainee and his details are as follows:.......')\n",
    "        self.details()\n",
    "def details(self):\n",
    "    print(f'{self.fullName} is now a hired as Trainee and his details are as follows:.......')"
   ]
  },
  {
   "cell_type": "code",
   "execution_count": 118,
   "id": "984fcf7e",
   "metadata": {},
   "outputs": [
    {
     "data": {
      "text/plain": [
       "'This a Trainee class which accepts details of the trainee we hired\\n    Good Luck'"
      ]
     },
     "execution_count": 118,
     "metadata": {},
     "output_type": "execute_result"
    }
   ],
   "source": [
    "Trainee.__doc__"
   ]
  },
  {
   "cell_type": "code",
   "execution_count": 119,
   "id": "476b33e4",
   "metadata": {},
   "outputs": [
    {
     "name": "stdout",
     "output_type": "stream",
     "text": [
      "DonBosco is now a hired as Trainee and his details are as follows:.......\n"
     ]
    },
    {
     "ename": "AttributeError",
     "evalue": "'Trainee' object has no attribute 'details'",
     "output_type": "error",
     "traceback": [
      "\u001b[1;31m---------------------------------------------------------------------------\u001b[0m",
      "\u001b[1;31mAttributeError\u001b[0m                            Traceback (most recent call last)",
      "Cell \u001b[1;32mIn[119], line 1\u001b[0m\n\u001b[1;32m----> 1\u001b[0m x\u001b[38;5;241m=\u001b[39mTrainee(\u001b[38;5;124m'\u001b[39m\u001b[38;5;124mDon\u001b[39m\u001b[38;5;124m'\u001b[39m,\u001b[38;5;124m'\u001b[39m\u001b[38;5;124mBosco\u001b[39m\u001b[38;5;124m'\u001b[39m,\u001b[38;5;124m'\u001b[39m\u001b[38;5;124m01-01-1999\u001b[39m\u001b[38;5;124m'\u001b[39m,\u001b[38;5;124m'\u001b[39m\u001b[38;5;124mO+ve\u001b[39m\u001b[38;5;124m'\u001b[39m)\n",
      "Cell \u001b[1;32mIn[117], line 14\u001b[0m, in \u001b[0;36mTrainee.__init__\u001b[1;34m(self, firstName, lastName, dateOfBirth, bloodGroup)\u001b[0m\n\u001b[0;32m     12\u001b[0m \u001b[38;5;28mself\u001b[39m\u001b[38;5;241m.\u001b[39memail\u001b[38;5;241m=\u001b[39m\u001b[38;5;28mself\u001b[39m\u001b[38;5;241m.\u001b[39memail\u001b[38;5;241m.\u001b[39mlower()\n\u001b[0;32m     13\u001b[0m \u001b[38;5;28mprint\u001b[39m(\u001b[38;5;124mf\u001b[39m\u001b[38;5;124m'\u001b[39m\u001b[38;5;132;01m{\u001b[39;00m\u001b[38;5;28mself\u001b[39m\u001b[38;5;241m.\u001b[39mfullName\u001b[38;5;132;01m}\u001b[39;00m\u001b[38;5;124m is now a hired as Trainee and his details are as follows:.......\u001b[39m\u001b[38;5;124m'\u001b[39m)\n\u001b[1;32m---> 14\u001b[0m \u001b[38;5;28mself\u001b[39m\u001b[38;5;241m.\u001b[39mdetails()\n",
      "\u001b[1;31mAttributeError\u001b[0m: 'Trainee' object has no attribute 'details'"
     ]
    }
   ],
   "source": [
    "x=Trainee('Don','Bosco','01-01-1999','O+ve')"
   ]
  },
  {
   "cell_type": "code",
   "execution_count": 120,
   "id": "5aa685d0",
   "metadata": {},
   "outputs": [
    {
     "data": {
      "text/plain": [
       "'donb99innomatics.com'"
      ]
     },
     "execution_count": 120,
     "metadata": {},
     "output_type": "execute_result"
    }
   ],
   "source": [
    "x.email"
   ]
  },
  {
   "cell_type": "code",
   "execution_count": 121,
   "id": "6c85bfb7",
   "metadata": {},
   "outputs": [
    {
     "data": {
      "text/plain": [
       "'This a Trainee class which accepts details of the trainee we hired\\n    Good Luck'"
      ]
     },
     "execution_count": 121,
     "metadata": {},
     "output_type": "execute_result"
    }
   ],
   "source": [
    "Trainee.__doc__"
   ]
  },
  {
   "cell_type": "code",
   "execution_count": 122,
   "id": "b1d7c8ad",
   "metadata": {},
   "outputs": [
    {
     "ename": "AttributeError",
     "evalue": "'Trainee' object has no attribute 'details'",
     "output_type": "error",
     "traceback": [
      "\u001b[1;31m---------------------------------------------------------------------------\u001b[0m",
      "\u001b[1;31mAttributeError\u001b[0m                            Traceback (most recent call last)",
      "Cell \u001b[1;32mIn[122], line 1\u001b[0m\n\u001b[1;32m----> 1\u001b[0m x\u001b[38;5;241m.\u001b[39mdetails()\n",
      "\u001b[1;31mAttributeError\u001b[0m: 'Trainee' object has no attribute 'details'"
     ]
    }
   ],
   "source": [
    "x.details()"
   ]
  },
  {
   "cell_type": "code",
   "execution_count": 123,
   "id": "d7894eb2",
   "metadata": {},
   "outputs": [
    {
     "data": {
      "text/plain": [
       "'Hello Class'"
      ]
     },
     "execution_count": 123,
     "metadata": {},
     "output_type": "execute_result"
    }
   ],
   "source": [
    "a='hello class'\n",
    "a.title()"
   ]
  },
  {
   "cell_type": "code",
   "execution_count": 124,
   "id": "e80f6857",
   "metadata": {},
   "outputs": [
    {
     "data": {
      "text/plain": [
       "'hello class'"
      ]
     },
     "execution_count": 124,
     "metadata": {},
     "output_type": "execute_result"
    }
   ],
   "source": [
    "a.lower()"
   ]
  },
  {
   "cell_type": "code",
   "execution_count": 2,
   "id": "a2811b17",
   "metadata": {},
   "outputs": [
    {
     "data": {
      "text/plain": [
       "'HELLO CLASS'"
      ]
     },
     "execution_count": 2,
     "metadata": {},
     "output_type": "execute_result"
    }
   ],
   "source": [
    "a='hello class'\n",
    "a.upper()"
   ]
  },
  {
   "cell_type": "code",
   "execution_count": 125,
   "id": "55b0afb7",
   "metadata": {},
   "outputs": [
    {
     "data": {
      "text/plain": [
       "'Hello Class'"
      ]
     },
     "execution_count": 125,
     "metadata": {},
     "output_type": "execute_result"
    }
   ],
   "source": [
    "str.title(a)"
   ]
  },
  {
   "cell_type": "code",
   "execution_count": 7,
   "id": "2fd75320",
   "metadata": {},
   "outputs": [],
   "source": [
    "class Trainee():\n",
    "    '''This a Trainee class which accepts details of the trainee we hired\n",
    "    Good Luck'''\n",
    "    def __init__(self,firstName,lastName,gender,martialStatus,dateOfBirth,bloodGroup):\n",
    "        self.fname=firstName\n",
    "        self.lname=lastName\n",
    "        self.g=gender\n",
    "        self.ms=martialStatus\n",
    "        self.dob=dateOfBirth\n",
    "        self.bg=bloodGroup\n",
    "        self.fullName=self.fname+''+self.lname\n",
    "        self.email=firstName+lastName[0]+dateOfBirth[-2:]+'innomatics.com'\n",
    "        self.email=self.email.lower()\n",
    "        #print(f'{self.fullName} is now a hired as Trainee and his details are as follows:.......')\n",
    "        self.details()\n",
    "def details(self):\n",
    "    if self.g=='male':\n",
    "        print(f'Mr.{self.fullName} is now hired as trainee')\n",
    "    elif self.g=='female' and self.ms=='single':\n",
    "        print(f'Ms.{self.fullName} is now hired as trainee')\n",
    "    else:\n",
    "        print(f'Mrs.{self.fullName} is now hired as trainee')\n",
    "    "
   ]
  },
  {
   "cell_type": "code",
   "execution_count": 10,
   "id": "53eec5de",
   "metadata": {},
   "outputs": [
    {
     "ename": "TypeError",
     "evalue": "Trainee.__init__() missing 1 required positional argument: 'bloodGroup'",
     "output_type": "error",
     "traceback": [
      "\u001b[1;31m---------------------------------------------------------------------------\u001b[0m",
      "\u001b[1;31mTypeError\u001b[0m                                 Traceback (most recent call last)",
      "Cell \u001b[1;32mIn[10], line 1\u001b[0m\n\u001b[1;32m----> 1\u001b[0m x\u001b[38;5;241m=\u001b[39mTrainee(\u001b[38;5;124m'\u001b[39m\u001b[38;5;124mDon\u001b[39m\u001b[38;5;124m'\u001b[39m,\u001b[38;5;124m'\u001b[39m\u001b[38;5;124mBosco\u001b[39m\u001b[38;5;124m'\u001b[39m,\u001b[38;5;124m'\u001b[39m\u001b[38;5;124mmale\u001b[39m\u001b[38;5;124m'\u001b[39m,\u001b[38;5;124m'\u001b[39m\u001b[38;5;124msingle\u001b[39m\u001b[38;5;124m'\u001b[39m\u001b[38;5;124m'\u001b[39m\u001b[38;5;124m01-01-1999\u001b[39m\u001b[38;5;124m'\u001b[39m,\u001b[38;5;124m'\u001b[39m\u001b[38;5;124mO+ve\u001b[39m\u001b[38;5;124m'\u001b[39m)\n",
      "\u001b[1;31mTypeError\u001b[0m: Trainee.__init__() missing 1 required positional argument: 'bloodGroup'"
     ]
    }
   ],
   "source": [
    "x=Trainee('Don','Bosco','male','single''01-01-1999','O+ve')"
   ]
  },
  {
   "cell_type": "code",
   "execution_count": 11,
   "id": "974d3aea",
   "metadata": {},
   "outputs": [
    {
     "ename": "NameError",
     "evalue": "name 'x' is not defined",
     "output_type": "error",
     "traceback": [
      "\u001b[1;31m---------------------------------------------------------------------------\u001b[0m",
      "\u001b[1;31mNameError\u001b[0m                                 Traceback (most recent call last)",
      "Cell \u001b[1;32mIn[11], line 1\u001b[0m\n\u001b[1;32m----> 1\u001b[0m x\u001b[38;5;241m.\u001b[39mdetailes\n",
      "\u001b[1;31mNameError\u001b[0m: name 'x' is not defined"
     ]
    }
   ],
   "source": [
    "x.detailes"
   ]
  },
  {
   "cell_type": "code",
   "execution_count": null,
   "id": "27112429",
   "metadata": {},
   "outputs": [],
   "source": []
  },
  {
   "cell_type": "code",
   "execution_count": null,
   "id": "98d03857",
   "metadata": {},
   "outputs": [],
   "source": []
  },
  {
   "cell_type": "code",
   "execution_count": null,
   "id": "daedec07",
   "metadata": {},
   "outputs": [],
   "source": []
  },
  {
   "cell_type": "code",
   "execution_count": null,
   "id": "5f177b56",
   "metadata": {},
   "outputs": [],
   "source": []
  },
  {
   "cell_type": "code",
   "execution_count": null,
   "id": "bd5b8df8",
   "metadata": {},
   "outputs": [],
   "source": []
  },
  {
   "cell_type": "code",
   "execution_count": null,
   "id": "77c5449e",
   "metadata": {},
   "outputs": [],
   "source": []
  },
  {
   "cell_type": "code",
   "execution_count": null,
   "id": "6a80f3c8",
   "metadata": {},
   "outputs": [],
   "source": []
  },
  {
   "cell_type": "code",
   "execution_count": null,
   "id": "0f129355",
   "metadata": {},
   "outputs": [],
   "source": []
  },
  {
   "cell_type": "code",
   "execution_count": null,
   "id": "84ac46cf",
   "metadata": {},
   "outputs": [],
   "source": []
  },
  {
   "cell_type": "code",
   "execution_count": null,
   "id": "c8e03e44",
   "metadata": {},
   "outputs": [],
   "source": []
  },
  {
   "cell_type": "code",
   "execution_count": null,
   "id": "e66a7e38",
   "metadata": {},
   "outputs": [],
   "source": []
  },
  {
   "cell_type": "code",
   "execution_count": null,
   "id": "9289732c",
   "metadata": {},
   "outputs": [],
   "source": []
  },
  {
   "cell_type": "code",
   "execution_count": null,
   "id": "2499ce2d",
   "metadata": {},
   "outputs": [],
   "source": []
  },
  {
   "cell_type": "code",
   "execution_count": null,
   "id": "2f9abc2a",
   "metadata": {},
   "outputs": [],
   "source": []
  },
  {
   "cell_type": "code",
   "execution_count": null,
   "id": "ffae23f2",
   "metadata": {},
   "outputs": [],
   "source": []
  },
  {
   "cell_type": "code",
   "execution_count": null,
   "id": "a7d70cb9",
   "metadata": {},
   "outputs": [],
   "source": []
  },
  {
   "cell_type": "code",
   "execution_count": null,
   "id": "dcfa2184",
   "metadata": {},
   "outputs": [],
   "source": []
  }
 ],
 "metadata": {
  "kernelspec": {
   "display_name": "Python 3 (ipykernel)",
   "language": "python",
   "name": "python3"
  },
  "language_info": {
   "codemirror_mode": {
    "name": "ipython",
    "version": 3
   },
   "file_extension": ".py",
   "mimetype": "text/x-python",
   "name": "python",
   "nbconvert_exporter": "python",
   "pygments_lexer": "ipython3",
   "version": "3.11.3"
  }
 },
 "nbformat": 4,
 "nbformat_minor": 5
}
