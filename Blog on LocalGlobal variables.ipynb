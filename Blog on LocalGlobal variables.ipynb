{
 "cells": [
  {
   "cell_type": "markdown",
   "id": "977db70f",
   "metadata": {},
   "source": [
    "# Local Namespace"
   ]
  },
  {
   "cell_type": "markdown",
   "id": "01a3adfd",
   "metadata": {},
   "source": [
    "*  When you define a variable inside a function or method, it belongs to the local namespace of that function.\n",
    "\n",
    "   This means that the variable is only accessible within that specific function. \n",
    "   \n",
    "   It cannot be directly accessed from outside the function.\n",
    "   \n",
    "   "
   ]
  },
  {
   "cell_type": "code",
   "execution_count": 75,
   "id": "c06b9ca7",
   "metadata": {},
   "outputs": [],
   "source": [
    "def foo1():\n",
    "    n=5\n",
    "    print('n  value is :',n)\n",
    "def foo2():\n",
    "    n=10\n",
    "    print('n value is:',n)\n",
    "    "
   ]
  },
  {
   "cell_type": "code",
   "execution_count": 76,
   "id": "d7249a17",
   "metadata": {},
   "outputs": [
    {
     "name": "stdout",
     "output_type": "stream",
     "text": [
      "n value is: 10\n"
     ]
    }
   ],
   "source": [
    "foo2()"
   ]
  },
  {
   "cell_type": "code",
   "execution_count": 77,
   "id": "f93be9b7",
   "metadata": {},
   "outputs": [
    {
     "name": "stdout",
     "output_type": "stream",
     "text": [
      "n  value is : 5\n"
     ]
    }
   ],
   "source": [
    "foo1()"
   ]
  },
  {
   "cell_type": "markdown",
   "id": "3c7b70bf",
   "metadata": {},
   "source": [
    "# Global Namespace"
   ]
  },
  {
   "cell_type": "markdown",
   "id": "145fce53",
   "metadata": {},
   "source": [
    "* global_var is a global variable defined outside of the function.\n",
    "\n",
    "  It can be accessed from both inside and outside the function."
   ]
  },
  {
   "cell_type": "code",
   "execution_count": 78,
   "id": "d3cb0d72",
   "metadata": {},
   "outputs": [
    {
     "name": "stdout",
     "output_type": "stream",
     "text": [
      "Good Morning\n",
      "hi everyone\n"
     ]
    }
   ],
   "source": [
    "global_var = \"hi everyone\"\n",
    "\n",
    "def my_function():\n",
    "    \n",
    "    local_var = 'Good Morning'\n",
    "    print(local_var)  \n",
    "    print(global_var)  \n",
    "\n",
    "my_function()"
   ]
  },
  {
   "cell_type": "markdown",
   "id": "098f9d86",
   "metadata": {},
   "source": [
    "# Enclosed Namespace"
   ]
  },
  {
   "cell_type": "markdown",
   "id": "5bfc6afa",
   "metadata": {},
   "source": [
    " * Defined inside enclosing functions(Nested function concept)\n",
    " \n",
    " \n",
    " \n",
    "\n",
    " * It is a special scope that only exists for nested functions. \n",
    "\n",
    "    If the local scope is an inner or nested function, then the enclosing scope is the scope of the outer or enclosing function.\n",
    "\n",
    "     This scope contains the names that you define in the enclosing function. The names in the enclosing scope are visible from \n",
    "\n",
    "    the code of the inner and enclosing functions."
   ]
  },
  {
   "cell_type": "code",
   "execution_count": 79,
   "id": "6c4013d0",
   "metadata": {},
   "outputs": [],
   "source": [
    "def outerfoo(x):\n",
    "    \n",
    "    outer_var = x\n",
    "\n",
    "    def innerfoo():\n",
    "        \n",
    "        print(\"Innerfoo: Outer variable =\", outer_var)\n",
    "\n",
    "    return innerfoo \n",
    "\n",
    "closure1= outerfoo(42)\n",
    "closure2= outerfoo(100)"
   ]
  },
  {
   "cell_type": "code",
   "execution_count": 80,
   "id": "8e657ff3",
   "metadata": {},
   "outputs": [
    {
     "name": "stdout",
     "output_type": "stream",
     "text": [
      "Innerfoo: Outer variable = 42\n"
     ]
    }
   ],
   "source": [
    "closure1()"
   ]
  },
  {
   "cell_type": "code",
   "execution_count": 81,
   "id": "3890451e",
   "metadata": {},
   "outputs": [
    {
     "name": "stdout",
     "output_type": "stream",
     "text": [
      "Innerfoo: Outer variable = 100\n"
     ]
    }
   ],
   "source": [
    "closure2()"
   ]
  },
  {
   "cell_type": "markdown",
   "id": "9d0182f5",
   "metadata": {},
   "source": [
    "# Built in  Namespace"
   ]
  },
  {
   "cell_type": "markdown",
   "id": "54c1d8ee",
   "metadata": {},
   "source": [
    "the built-in namespace refers to a special namespace that contains all the built-in functions, objects, and exceptions that are\n",
    "\n",
    "available for use without the need to import any modules. These built-in elements are part of the Python core and are \n",
    "\n",
    "automatically available in any Python script or program.\n"
   ]
  },
  {
   "cell_type": "code",
   "execution_count": 82,
   "id": "14b0e82e",
   "metadata": {},
   "outputs": [],
   "source": [
    "x=22 #global  namespace\n",
    "def outerFoo():\n",
    "    x=66 #enclosed namespace\n",
    "    def innerFoo():\n",
    "        x=55 #local namespace\n",
    "        print(f'the value of x in innerFoo is {x}')\n",
    "        print(str) #built in namespace\n",
    "    innerFoo()\n",
    "    print(f'the value of x in outside  innerFoo is {x}')"
   ]
  },
  {
   "cell_type": "code",
   "execution_count": 83,
   "id": "6048428f",
   "metadata": {},
   "outputs": [
    {
     "name": "stdout",
     "output_type": "stream",
     "text": [
      "the value of x in innerFoo is 55\n",
      "<class 'str'>\n",
      "the value of x in outside  innerFoo is 66\n"
     ]
    }
   ],
   "source": [
    "outerFoo()"
   ]
  },
  {
   "cell_type": "code",
   "execution_count": 84,
   "id": "3d46d1f6",
   "metadata": {},
   "outputs": [
    {
     "data": {
      "text/plain": [
       "22"
      ]
     },
     "execution_count": 84,
     "metadata": {},
     "output_type": "execute_result"
    }
   ],
   "source": [
    "x"
   ]
  },
  {
   "cell_type": "code",
   "execution_count": 85,
   "id": "10e513e2",
   "metadata": {},
   "outputs": [],
   "source": [
    "def outerfoo(x):\n",
    "    \n",
    "    outer_var = x\n",
    "    \n",
    "    def innerfoo():\n",
    "        \n",
    "        print(\"Innerfoo: Outer variable =\", outer_var)\n",
    "        print('str')\n",
    "    return innerfoo \n",
    "\n",
    "closure1= outerfoo(42)\n",
    "closure2= outerfoo(100)"
   ]
  },
  {
   "cell_type": "code",
   "execution_count": 86,
   "id": "8ac54132",
   "metadata": {},
   "outputs": [
    {
     "name": "stdout",
     "output_type": "stream",
     "text": [
      "Innerfoo: Outer variable = 42\n",
      "str\n"
     ]
    }
   ],
   "source": [
    "closure1()"
   ]
  },
  {
   "cell_type": "code",
   "execution_count": 72,
   "id": "92f43ab4",
   "metadata": {},
   "outputs": [
    {
     "name": "stdout",
     "output_type": "stream",
     "text": [
      "Innerfoo: Outer variable = 100\n",
      "str\n"
     ]
    }
   ],
   "source": [
    "closure2()"
   ]
  },
  {
   "cell_type": "code",
   "execution_count": null,
   "id": "8926e2d4",
   "metadata": {},
   "outputs": [],
   "source": []
  }
 ],
 "metadata": {
  "kernelspec": {
   "display_name": "Python 3 (ipykernel)",
   "language": "python",
   "name": "python3"
  },
  "language_info": {
   "codemirror_mode": {
    "name": "ipython",
    "version": 3
   },
   "file_extension": ".py",
   "mimetype": "text/x-python",
   "name": "python",
   "nbconvert_exporter": "python",
   "pygments_lexer": "ipython3",
   "version": "3.11.3"
  }
 },
 "nbformat": 4,
 "nbformat_minor": 5
}
