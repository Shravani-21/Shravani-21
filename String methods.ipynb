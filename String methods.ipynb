{
 "cells": [
  {
   "cell_type": "markdown",
   "id": "6f36d3bf",
   "metadata": {},
   "source": [
    "# String"
   ]
  },
  {
   "cell_type": "markdown",
   "id": "cc8fbe91",
   "metadata": {},
   "source": [
    "* String is a sequential data type . Anything enclosed within single quote and double quote and triple single or double quotes.\n",
    "\n",
    "* String has both positive  and negative index as well as step size.\n",
    "\n",
    "*Strings are immutable\n",
    "\n",
    "* By default step size is 1.\n",
    "\n",
    "*x[start:end:step size] =x[0:len(x):1]        # positive indexing\n",
    "\n",
    "*x[start:end:stepsize]  = x[-1:-len(x):-1]     #Negative indexing"
   ]
  },
  {
   "cell_type": "code",
   "execution_count": 6,
   "id": "80ddfb3c",
   "metadata": {},
   "outputs": [
    {
     "name": "stdout",
     "output_type": "stream",
     "text": [
      "noais\n"
     ]
    }
   ],
   "source": [
    "x='Innomatics Research Lab'\n",
    "print(x[1:10:2])  #Forward sequential data type with 2 step size"
   ]
  },
  {
   "cell_type": "code",
   "execution_count": 5,
   "id": "21ce7686",
   "metadata": {},
   "outputs": [
    {
     "name": "stdout",
     "output_type": "stream",
     "text": [
      "bLhree\n"
     ]
    }
   ],
   "source": [
    "print(x[-1:-12:-2]) # Reverse sequential data type with -2 step size"
   ]
  },
  {
   "cell_type": "markdown",
   "id": "f0dd334a",
   "metadata": {},
   "source": [
    "How are strings or characters understood by system of python?"
   ]
  },
  {
   "cell_type": "markdown",
   "id": "ce7246a5",
   "metadata": {},
   "source": [
    "* They are converted into ascii values.Ascii value of any string character is given by ord('character').\n",
    "\n",
    "* To convert any Ascii value to it's respective character we use chr(ascii value)     #Ascii value always positive integer"
   ]
  },
  {
   "cell_type": "code",
   "execution_count": 8,
   "id": "62a7ddac",
   "metadata": {},
   "outputs": [
    {
     "name": "stdout",
     "output_type": "stream",
     "text": [
      "a\n"
     ]
    }
   ],
   "source": [
    "x=chr(97)   \n",
    "print(x)"
   ]
  },
  {
   "cell_type": "code",
   "execution_count": 10,
   "id": "0fe92753",
   "metadata": {},
   "outputs": [
    {
     "name": "stdout",
     "output_type": "stream",
     "text": [
      "97\n"
     ]
    }
   ],
   "source": [
    "x=ord('a')\n",
    "print(x)"
   ]
  },
  {
   "cell_type": "code",
   "execution_count": 12,
   "id": "b8527781",
   "metadata": {},
   "outputs": [
    {
     "name": "stdout",
     "output_type": "stream",
     "text": [
      "0b1100001\n"
     ]
    }
   ],
   "source": [
    "x=bin(97)\n",
    "print(x)"
   ]
  },
  {
   "cell_type": "code",
   "execution_count": 14,
   "id": "155c1dc6",
   "metadata": {},
   "outputs": [
    {
     "name": "stdout",
     "output_type": "stream",
     "text": [
      "115\n"
     ]
    }
   ],
   "source": [
    "x=ord('s')\n",
    "print(x)"
   ]
  },
  {
   "cell_type": "markdown",
   "id": "49b848ae",
   "metadata": {},
   "source": [
    "# Methods in string class"
   ]
  },
  {
   "cell_type": "markdown",
   "id": "7bac77f4",
   "metadata": {},
   "source": [
    "* Function we can call upon the string objects.\n",
    "\n",
    "Step1:- Take individual character of the given string.\n",
    "\n",
    "Step2:- Evaluate using conditional statements.\n",
    "\n",
    "     [ord(A) ......................ord(z)+1]\n",
    "     \n",
    "       chr(ord(a)+32)\n",
    "       \n",
    "Step3:- ord(Z)+1\n",
    "\n"
   ]
  },
  {
   "cell_type": "code",
   "execution_count": 16,
   "id": "451ddc22",
   "metadata": {},
   "outputs": [
    {
     "data": {
      "text/plain": [
       "72"
      ]
     },
     "execution_count": 16,
     "metadata": {},
     "output_type": "execute_result"
    }
   ],
   "source": [
    "x='Hello'\n",
    "ord('H')"
   ]
  },
  {
   "cell_type": "code",
   "execution_count": 25,
   "id": "b831d62f",
   "metadata": {},
   "outputs": [
    {
     "data": {
      "text/plain": [
       "'j'"
      ]
     },
     "execution_count": 25,
     "metadata": {},
     "output_type": "execute_result"
    }
   ],
   "source": [
    "x='Hello'\n",
    "chr(ord('l')-2)\n"
   ]
  },
  {
   "cell_type": "code",
   "execution_count": 30,
   "id": "773e0922",
   "metadata": {},
   "outputs": [
    {
     "data": {
      "text/plain": [
       "'f'"
      ]
     },
     "execution_count": 30,
     "metadata": {},
     "output_type": "execute_result"
    }
   ],
   "source": [
    "chr(ord('e')+1)"
   ]
  },
  {
   "cell_type": "code",
   "execution_count": 31,
   "id": "17091473",
   "metadata": {},
   "outputs": [
    {
     "name": "stdout",
     "output_type": "stream",
     "text": [
      "['__add__', '__class__', '__contains__', '__delattr__', '__dir__', '__doc__', '__eq__', '__format__', '__ge__', '__getattribute__', '__getitem__', '__getnewargs__', '__getstate__', '__gt__', '__hash__', '__init__', '__init_subclass__', '__iter__', '__le__', '__len__', '__lt__', '__mod__', '__mul__', '__ne__', '__new__', '__reduce__', '__reduce_ex__', '__repr__', '__rmod__', '__rmul__', '__setattr__', '__sizeof__', '__str__', '__subclasshook__', 'capitalize', 'casefold', 'center', 'count', 'encode', 'endswith', 'expandtabs', 'find', 'format', 'format_map', 'index', 'isalnum', 'isalpha', 'isascii', 'isdecimal', 'isdigit', 'isidentifier', 'islower', 'isnumeric', 'isprintable', 'isspace', 'istitle', 'isupper', 'join', 'ljust', 'lower', 'lstrip', 'maketrans', 'partition', 'removeprefix', 'removesuffix', 'replace', 'rfind', 'rindex', 'rjust', 'rpartition', 'rsplit', 'rstrip', 'split', 'splitlines', 'startswith', 'strip', 'swapcase', 'title', 'translate', 'upper', 'zfill']\n"
     ]
    }
   ],
   "source": [
    "print(dir(x))"
   ]
  },
  {
   "cell_type": "markdown",
   "id": "e3f7dc8e",
   "metadata": {},
   "source": [
    "# Find()"
   ]
  },
  {
   "cell_type": "markdown",
   "id": "59e829a3",
   "metadata": {},
   "source": [
    "* Fine method returns the index(positive index) of first occurence of given char or sub string.\n",
    "* It initiats the search from left to right"
   ]
  },
  {
   "cell_type": "code",
   "execution_count": 32,
   "id": "8d83ec25",
   "metadata": {},
   "outputs": [
    {
     "name": "stdout",
     "output_type": "stream",
     "text": [
      "Help on built-in function find:\n",
      "\n",
      "find(...) method of builtins.str instance\n",
      "    S.find(sub[, start[, end]]) -> int\n",
      "    \n",
      "    Return the lowest index in S where substring sub is found,\n",
      "    such that sub is contained within S[start:end].  Optional\n",
      "    arguments start and end are interpreted as in slice notation.\n",
      "    \n",
      "    Return -1 on failure.\n",
      "\n"
     ]
    }
   ],
   "source": [
    "help(x.find)"
   ]
  },
  {
   "cell_type": "code",
   "execution_count": 41,
   "id": "a01d8b49",
   "metadata": {},
   "outputs": [
    {
     "data": {
      "text/plain": [
       "4"
      ]
     },
     "execution_count": 41,
     "metadata": {},
     "output_type": "execute_result"
    }
   ],
   "source": [
    "x='She saw Sharifs shoes on the sofa. But was she so sure those were Sharifs shoes she saw?'\n",
    "x.find('s')"
   ]
  },
  {
   "cell_type": "code",
   "execution_count": 39,
   "id": "cff1f988",
   "metadata": {},
   "outputs": [
    {
     "data": {
      "text/plain": [
       "5"
      ]
     },
     "execution_count": 39,
     "metadata": {},
     "output_type": "execute_result"
    }
   ],
   "source": [
    "x.find('a',1)"
   ]
  },
  {
   "cell_type": "code",
   "execution_count": 42,
   "id": "26b1299b",
   "metadata": {},
   "outputs": [
    {
     "data": {
      "text/plain": [
       "1"
      ]
     },
     "execution_count": 42,
     "metadata": {},
     "output_type": "execute_result"
    }
   ],
   "source": [
    "x.find('h',1,5)"
   ]
  },
  {
   "cell_type": "code",
   "execution_count": 43,
   "id": "fe315e52",
   "metadata": {},
   "outputs": [
    {
     "data": {
      "text/plain": [
       "(0, 8, -1)"
      ]
     },
     "execution_count": 43,
     "metadata": {},
     "output_type": "execute_result"
    }
   ],
   "source": [
    "x.find('S'),x.find('S',1),x.find('S',1,5)"
   ]
  },
  {
   "cell_type": "markdown",
   "id": "b9b6493d",
   "metadata": {},
   "source": [
    "# rfind()"
   ]
  },
  {
   "cell_type": "markdown",
   "id": "a9aabfe3",
   "metadata": {},
   "source": [
    "* It initiats the search from right to left"
   ]
  },
  {
   "cell_type": "code",
   "execution_count": 44,
   "id": "56ba7343",
   "metadata": {},
   "outputs": [
    {
     "data": {
      "text/plain": [
       "76"
      ]
     },
     "execution_count": 44,
     "metadata": {},
     "output_type": "execute_result"
    }
   ],
   "source": [
    "x='She saw Sharifs shoes on the sofa. But was she so sure those were Sharifs shoes she saw?'\n",
    "x.rfind('o')"
   ]
  },
  {
   "cell_type": "code",
   "execution_count": 46,
   "id": "91a1552c",
   "metadata": {},
   "outputs": [
    {
     "data": {
      "text/plain": [
       "84"
      ]
     },
     "execution_count": 46,
     "metadata": {},
     "output_type": "execute_result"
    }
   ],
   "source": [
    "x.rfind('s',1)"
   ]
  },
  {
   "cell_type": "code",
   "execution_count": 47,
   "id": "36ad3a48",
   "metadata": {},
   "outputs": [
    {
     "data": {
      "text/plain": [
       "(69, 69, -1)"
      ]
     },
     "execution_count": 47,
     "metadata": {},
     "output_type": "execute_result"
    }
   ],
   "source": [
    "x.rfind('r'),x.rfind('r',1),x.rfind('r',1,7)"
   ]
  },
  {
   "cell_type": "code",
   "execution_count": 49,
   "id": "5c11aa27",
   "metadata": {},
   "outputs": [
    {
     "name": "stdout",
     "output_type": "stream",
     "text": [
      "Help on built-in function rfind:\n",
      "\n",
      "rfind(...) method of builtins.str instance\n",
      "    S.rfind(sub[, start[, end]]) -> int\n",
      "    \n",
      "    Return the highest index in S where substring sub is found,\n",
      "    such that sub is contained within S[start:end].  Optional\n",
      "    arguments start and end are interpreted as in slice notation.\n",
      "    \n",
      "    Return -1 on failure.\n",
      "\n"
     ]
    }
   ],
   "source": [
    "help(x.rfind)"
   ]
  },
  {
   "cell_type": "markdown",
   "id": "bf8025d4",
   "metadata": {},
   "source": [
    "# Index()"
   ]
  },
  {
   "cell_type": "markdown",
   "id": "be5bcebb",
   "metadata": {},
   "source": [
    "* Finds the first occurrence of the specified value from left to right."
   ]
  },
  {
   "cell_type": "code",
   "execution_count": 50,
   "id": "63d9b6ae",
   "metadata": {},
   "outputs": [
    {
     "name": "stdout",
     "output_type": "stream",
     "text": [
      "Help on built-in function index:\n",
      "\n",
      "index(...) method of builtins.str instance\n",
      "    S.index(sub[, start[, end]]) -> int\n",
      "    \n",
      "    Return the lowest index in S where substring sub is found,\n",
      "    such that sub is contained within S[start:end].  Optional\n",
      "    arguments start and end are interpreted as in slice notation.\n",
      "    \n",
      "    Raises ValueError when the substring is not found.\n",
      "\n"
     ]
    }
   ],
   "source": [
    "help(x.index)"
   ]
  },
  {
   "cell_type": "code",
   "execution_count": 51,
   "id": "c8d490ba",
   "metadata": {},
   "outputs": [],
   "source": [
    "x='Black background, brown background'\n"
   ]
  },
  {
   "cell_type": "code",
   "execution_count": 52,
   "id": "6c6c0b79",
   "metadata": {},
   "outputs": [
    {
     "data": {
      "text/plain": [
       "6"
      ]
     },
     "execution_count": 52,
     "metadata": {},
     "output_type": "execute_result"
    }
   ],
   "source": [
    "x.index('b')"
   ]
  },
  {
   "cell_type": "code",
   "execution_count": 55,
   "id": "47022ebc",
   "metadata": {},
   "outputs": [
    {
     "data": {
      "text/plain": [
       "3"
      ]
     },
     "execution_count": 55,
     "metadata": {},
     "output_type": "execute_result"
    }
   ],
   "source": [
    "x.index('c',1)"
   ]
  },
  {
   "cell_type": "code",
   "execution_count": 58,
   "id": "be0164e5",
   "metadata": {},
   "outputs": [
    {
     "ename": "ValueError",
     "evalue": "substring not found",
     "output_type": "error",
     "traceback": [
      "\u001b[1;31m---------------------------------------------------------------------------\u001b[0m",
      "\u001b[1;31mValueError\u001b[0m                                Traceback (most recent call last)",
      "Cell \u001b[1;32mIn[58], line 1\u001b[0m\n\u001b[1;32m----> 1\u001b[0m x\u001b[38;5;241m.\u001b[39mindex(\u001b[38;5;124m'\u001b[39m\u001b[38;5;124msss\u001b[39m\u001b[38;5;124m'\u001b[39m)\n",
      "\u001b[1;31mValueError\u001b[0m: substring not found"
     ]
    }
   ],
   "source": [
    "x.index('sss')"
   ]
  },
  {
   "cell_type": "code",
   "execution_count": 61,
   "id": "a78b2405",
   "metadata": {},
   "outputs": [
    {
     "data": {
      "text/plain": [
       "1"
      ]
     },
     "execution_count": 61,
     "metadata": {},
     "output_type": "execute_result"
    }
   ],
   "source": [
    "x.index('l',1)"
   ]
  },
  {
   "cell_type": "markdown",
   "id": "8296284f",
   "metadata": {},
   "source": [
    "# rindex()"
   ]
  },
  {
   "cell_type": "markdown",
   "id": "a285348a",
   "metadata": {},
   "source": [
    "* Finds the first occurrence of the specified value from right to left."
   ]
  },
  {
   "cell_type": "code",
   "execution_count": 62,
   "id": "6733c2b6",
   "metadata": {},
   "outputs": [],
   "source": [
    "x='Black background, brown background'\n"
   ]
  },
  {
   "cell_type": "code",
   "execution_count": 63,
   "id": "3eeb573c",
   "metadata": {},
   "outputs": [
    {
     "data": {
      "text/plain": [
       "29"
      ]
     },
     "execution_count": 63,
     "metadata": {},
     "output_type": "execute_result"
    }
   ],
   "source": [
    "x.rfind('r')"
   ]
  },
  {
   "cell_type": "code",
   "execution_count": 64,
   "id": "7758d16e",
   "metadata": {},
   "outputs": [
    {
     "data": {
      "text/plain": [
       "31"
      ]
     },
     "execution_count": 64,
     "metadata": {},
     "output_type": "execute_result"
    }
   ],
   "source": [
    "x.rfind('u',1)"
   ]
  },
  {
   "cell_type": "code",
   "execution_count": 65,
   "id": "801e0a74",
   "metadata": {},
   "outputs": [
    {
     "data": {
      "text/plain": [
       "-1"
      ]
     },
     "execution_count": 65,
     "metadata": {},
     "output_type": "execute_result"
    }
   ],
   "source": [
    "x.rfind('kkk')"
   ]
  },
  {
   "cell_type": "markdown",
   "id": "c98f7f71",
   "metadata": {},
   "source": [
    "# Replace"
   ]
  },
  {
   "cell_type": "markdown",
   "id": "54cd4e18",
   "metadata": {},
   "source": [
    "* replace() is used to find and replace character in a string."
   ]
  },
  {
   "cell_type": "code",
   "execution_count": 66,
   "id": "9dd5d61e",
   "metadata": {},
   "outputs": [
    {
     "name": "stdout",
     "output_type": "stream",
     "text": [
      "Help on built-in function replace:\n",
      "\n",
      "replace(old, new, count=-1, /) method of builtins.str instance\n",
      "    Return a copy with all occurrences of substring old replaced by new.\n",
      "    \n",
      "      count\n",
      "        Maximum number of occurrences to replace.\n",
      "        -1 (the default value) means replace all occurrences.\n",
      "    \n",
      "    If the optional argument count is given, only the first count occurrences are\n",
      "    replaced.\n",
      "\n"
     ]
    }
   ],
   "source": [
    "help(x.replace)"
   ]
  },
  {
   "cell_type": "code",
   "execution_count": 67,
   "id": "5e28c754",
   "metadata": {},
   "outputs": [],
   "source": [
    "x='A proper copper coffee pot'"
   ]
  },
  {
   "cell_type": "code",
   "execution_count": 72,
   "id": "6ab6324d",
   "metadata": {},
   "outputs": [
    {
     "data": {
      "text/plain": [
       "'A propAndr coppAndr coffAndAnd pot'"
      ]
     },
     "execution_count": 72,
     "metadata": {},
     "output_type": "execute_result"
    }
   ],
   "source": [
    "x.replace('e','And')"
   ]
  },
  {
   "cell_type": "code",
   "execution_count": 73,
   "id": "184bb625",
   "metadata": {},
   "outputs": [
    {
     "data": {
      "text/plain": [
       "'A proper Sopper coffee pot'"
      ]
     },
     "execution_count": 73,
     "metadata": {},
     "output_type": "execute_result"
    }
   ],
   "source": [
    "x.replace('c','S',1)"
   ]
  },
  {
   "cell_type": "markdown",
   "id": "cd3e5eba",
   "metadata": {},
   "source": [
    "# Partiton()"
   ]
  },
  {
   "cell_type": "markdown",
   "id": "c0f8b39e",
   "metadata": {},
   "source": [
    "* the partition method searches for a specified string and splits the string into a tuple containing three elements.\n",
    "\n",
    "\n",
    "* Three tuple contains the part before the separator,the separator itself and the part after separator."
   ]
  },
  {
   "cell_type": "code",
   "execution_count": 74,
   "id": "58cf8d35",
   "metadata": {},
   "outputs": [
    {
     "name": "stdout",
     "output_type": "stream",
     "text": [
      "Help on built-in function partition:\n",
      "\n",
      "partition(sep, /) method of builtins.str instance\n",
      "    Partition the string into three parts using the given separator.\n",
      "    \n",
      "    This will search for the separator in the string.  If the separator is found,\n",
      "    returns a 3-tuple containing the part before the separator, the separator\n",
      "    itself, and the part after it.\n",
      "    \n",
      "    If the separator is not found, returns a 3-tuple containing the original string\n",
      "    and two empty strings.\n",
      "\n"
     ]
    }
   ],
   "source": [
    "help(x.partition)"
   ]
  },
  {
   "cell_type": "code",
   "execution_count": 91,
   "id": "43b0917e",
   "metadata": {},
   "outputs": [
    {
     "data": {
      "text/plain": [
       "('Mat', 'h', 'ematics')"
      ]
     },
     "execution_count": 91,
     "metadata": {},
     "output_type": "execute_result"
    }
   ],
   "source": [
    "x='Mathematics'\n",
    "x.partition('h')"
   ]
  },
  {
   "cell_type": "code",
   "execution_count": 92,
   "id": "ba035cf2",
   "metadata": {},
   "outputs": [
    {
     "data": {
      "text/plain": [
       "('Ma', 'h', 'abubnagar')"
      ]
     },
     "execution_count": 92,
     "metadata": {},
     "output_type": "execute_result"
    }
   ],
   "source": [
    "x='Mahabubnagar'\n",
    "x.partition('h')"
   ]
  },
  {
   "cell_type": "code",
   "execution_count": 94,
   "id": "a7786d0a",
   "metadata": {},
   "outputs": [
    {
     "data": {
      "text/plain": [
       "('Mahabubnagar', '', '')"
      ]
     },
     "execution_count": 94,
     "metadata": {},
     "output_type": "execute_result"
    }
   ],
   "source": [
    "x.partition('z')"
   ]
  },
  {
   "cell_type": "markdown",
   "id": "18e49eb4",
   "metadata": {},
   "source": [
    "# rpartition"
   ]
  },
  {
   "cell_type": "code",
   "execution_count": 97,
   "id": "58c26fa5",
   "metadata": {},
   "outputs": [],
   "source": [
    "x='Mathematics'\n"
   ]
  },
  {
   "cell_type": "code",
   "execution_count": 98,
   "id": "558cba6b",
   "metadata": {},
   "outputs": [
    {
     "data": {
      "text/plain": [
       "('Mathemat', 'i', 'cs')"
      ]
     },
     "execution_count": 98,
     "metadata": {},
     "output_type": "execute_result"
    }
   ],
   "source": [
    "x.rpartition('i')"
   ]
  },
  {
   "cell_type": "code",
   "execution_count": 99,
   "id": "34f9010a",
   "metadata": {},
   "outputs": [
    {
     "data": {
      "text/plain": [
       "('Mathe', 'm', 'atics')"
      ]
     },
     "execution_count": 99,
     "metadata": {},
     "output_type": "execute_result"
    }
   ],
   "source": [
    "x.rpartition('m')"
   ]
  },
  {
   "cell_type": "markdown",
   "id": "2cac6caf",
   "metadata": {},
   "source": [
    "# Split(),rsplit & Splitlines()"
   ]
  },
  {
   "cell_type": "markdown",
   "id": "63b41b1c",
   "metadata": {},
   "source": [
    "* split() It is used to string breaks from left to right.\n",
    "* rsplit() is used to string  breaks from right to left.\n",
    "* splitlines() is used to split page breaks or line breaks"
   ]
  },
  {
   "cell_type": "markdown",
   "id": "dd5bc942",
   "metadata": {},
   "source": [
    "help(x.split)"
   ]
  },
  {
   "cell_type": "code",
   "execution_count": 80,
   "id": "8415db8f",
   "metadata": {},
   "outputs": [],
   "source": [
    "x='Mathematics'\n"
   ]
  },
  {
   "cell_type": "code",
   "execution_count": 81,
   "id": "dc43cfff",
   "metadata": {},
   "outputs": [
    {
     "data": {
      "text/plain": [
       "['Mat', 'ematics']"
      ]
     },
     "execution_count": 81,
     "metadata": {},
     "output_type": "execute_result"
    }
   ],
   "source": [
    "x.split('h')"
   ]
  },
  {
   "cell_type": "code",
   "execution_count": 82,
   "id": "b88f11f6",
   "metadata": {},
   "outputs": [
    {
     "ename": "AttributeError",
     "evalue": "'str' object has no attribute 'spliy'",
     "output_type": "error",
     "traceback": [
      "\u001b[1;31m---------------------------------------------------------------------------\u001b[0m",
      "\u001b[1;31mAttributeError\u001b[0m                            Traceback (most recent call last)",
      "Cell \u001b[1;32mIn[82], line 1\u001b[0m\n\u001b[1;32m----> 1\u001b[0m x\u001b[38;5;241m.\u001b[39mspliy(\u001b[38;5;124m'\u001b[39m\u001b[38;5;124mo\u001b[39m\u001b[38;5;124m'\u001b[39m)\n",
      "\u001b[1;31mAttributeError\u001b[0m: 'str' object has no attribute 'spliy'"
     ]
    }
   ],
   "source": [
    "x.spliy('o')"
   ]
  },
  {
   "cell_type": "code",
   "execution_count": 100,
   "id": "99d9ba87",
   "metadata": {},
   "outputs": [
    {
     "data": {
      "text/plain": [
       "['Mathe', 'atics']"
      ]
     },
     "execution_count": 100,
     "metadata": {},
     "output_type": "execute_result"
    }
   ],
   "source": [
    "x.rsplit('m')"
   ]
  },
  {
   "cell_type": "code",
   "execution_count": 101,
   "id": "825b62d7",
   "metadata": {},
   "outputs": [
    {
     "data": {
      "text/plain": [
       "['Mathemat', 'cs']"
      ]
     },
     "execution_count": 101,
     "metadata": {},
     "output_type": "execute_result"
    }
   ],
   "source": [
    "x.rsplit('i')"
   ]
  },
  {
   "cell_type": "code",
   "execution_count": 84,
   "id": "3331eb25",
   "metadata": {},
   "outputs": [],
   "source": [
    "x='Tongue twisters are a great way to practice and improve pronunciation and fluency.They can also help to improve accents by using alliteration, ..'"
   ]
  },
  {
   "cell_type": "code",
   "execution_count": 87,
   "id": "a40fd667",
   "metadata": {},
   "outputs": [
    {
     "data": {
      "text/plain": [
       "['Tongue twisters are a great way to practice and improve pronunciation and fluency. They can also help to improve accents by using alliteration, ..']"
      ]
     },
     "execution_count": 87,
     "metadata": {},
     "output_type": "execute_result"
    }
   ],
   "source": [
    "x.splitlines()"
   ]
  },
  {
   "cell_type": "code",
   "execution_count": 89,
   "id": "e870a1f4",
   "metadata": {},
   "outputs": [
    {
     "name": "stdout",
     "output_type": "stream",
     "text": [
      "Help on built-in function splitlines:\n",
      "\n",
      "splitlines(keepends=False) method of builtins.str instance\n",
      "    Return a list of the lines in the string, breaking at line boundaries.\n",
      "    \n",
      "    Line breaks are not included in the resulting list unless keepends is given and\n",
      "    true.\n",
      "\n"
     ]
    }
   ],
   "source": [
    "help(x.splitlines)"
   ]
  },
  {
   "cell_type": "markdown",
   "id": "4afd1bff",
   "metadata": {},
   "source": [
    "# 1. isalpha"
   ]
  },
  {
   "cell_type": "code",
   "execution_count": 112,
   "id": "55ec1b1c",
   "metadata": {},
   "outputs": [
    {
     "ename": "AttributeError",
     "evalue": "'str' object has no attribute 'alpha'",
     "output_type": "error",
     "traceback": [
      "\u001b[1;31m---------------------------------------------------------------------------\u001b[0m",
      "\u001b[1;31mAttributeError\u001b[0m                            Traceback (most recent call last)",
      "Cell \u001b[1;32mIn[112], line 1\u001b[0m\n\u001b[1;32m----> 1\u001b[0m help(x\u001b[38;5;241m.\u001b[39malpha)\n",
      "\u001b[1;31mAttributeError\u001b[0m: 'str' object has no attribute 'alpha'"
     ]
    }
   ],
   "source": [
    "help(x.alpha)"
   ]
  },
  {
   "cell_type": "code",
   "execution_count": 116,
   "id": "214983bb",
   "metadata": {},
   "outputs": [
    {
     "data": {
      "text/plain": [
       "True"
      ]
     },
     "execution_count": 116,
     "metadata": {},
     "output_type": "execute_result"
    }
   ],
   "source": [
    "'abc'.isalpha()\n"
   ]
  },
  {
   "cell_type": "code",
   "execution_count": 117,
   "id": "5b93e129",
   "metadata": {},
   "outputs": [
    {
     "data": {
      "text/plain": [
       "False"
      ]
     },
     "execution_count": 117,
     "metadata": {},
     "output_type": "execute_result"
    }
   ],
   "source": [
    "'abc2'.isalpha()"
   ]
  },
  {
   "cell_type": "code",
   "execution_count": 118,
   "id": "462931b7",
   "metadata": {},
   "outputs": [
    {
     "data": {
      "text/plain": [
       "True"
      ]
     },
     "execution_count": 118,
     "metadata": {},
     "output_type": "execute_result"
    }
   ],
   "source": [
    "'ABC'.isalpha()"
   ]
  },
  {
   "cell_type": "markdown",
   "id": "12f6314e",
   "metadata": {},
   "source": [
    "# 2. isalnum"
   ]
  },
  {
   "cell_type": "code",
   "execution_count": 120,
   "id": "0c56b906",
   "metadata": {},
   "outputs": [
    {
     "data": {
      "text/plain": [
       "True"
      ]
     },
     "execution_count": 120,
     "metadata": {},
     "output_type": "execute_result"
    }
   ],
   "source": [
    "'abc7'.isalnum()"
   ]
  },
  {
   "cell_type": "code",
   "execution_count": 122,
   "id": "8fda2cc9",
   "metadata": {},
   "outputs": [
    {
     "data": {
      "text/plain": [
       "True"
      ]
     },
     "execution_count": 122,
     "metadata": {},
     "output_type": "execute_result"
    }
   ],
   "source": [
    "'abc8'.isalnum()"
   ]
  },
  {
   "cell_type": "code",
   "execution_count": 163,
   "id": "6b9b14b2",
   "metadata": {},
   "outputs": [
    {
     "data": {
      "text/plain": [
       "False"
      ]
     },
     "execution_count": 163,
     "metadata": {},
     "output_type": "execute_result"
    }
   ],
   "source": [
    "'abc@$R'.isalnum()"
   ]
  },
  {
   "cell_type": "markdown",
   "id": "2ca15eec",
   "metadata": {},
   "source": [
    "# 3. ascii"
   ]
  },
  {
   "cell_type": "code",
   "execution_count": 124,
   "id": "2aa274c7",
   "metadata": {},
   "outputs": [
    {
     "data": {
      "text/plain": [
       "True"
      ]
     },
     "execution_count": 124,
     "metadata": {},
     "output_type": "execute_result"
    }
   ],
   "source": [
    "'B'.isascii()"
   ]
  },
  {
   "cell_type": "code",
   "execution_count": 125,
   "id": "fb87474d",
   "metadata": {},
   "outputs": [
    {
     "data": {
      "text/plain": [
       "True"
      ]
     },
     "execution_count": 125,
     "metadata": {},
     "output_type": "execute_result"
    }
   ],
   "source": [
    "'ab'.isascii()"
   ]
  },
  {
   "cell_type": "code",
   "execution_count": 126,
   "id": "70a4ed55",
   "metadata": {},
   "outputs": [
    {
     "data": {
      "text/plain": [
       "True"
      ]
     },
     "execution_count": 126,
     "metadata": {},
     "output_type": "execute_result"
    }
   ],
   "source": [
    "'12'.isascii()"
   ]
  },
  {
   "cell_type": "code",
   "execution_count": 127,
   "id": "55f99e53",
   "metadata": {},
   "outputs": [
    {
     "data": {
      "text/plain": [
       "True"
      ]
     },
     "execution_count": 127,
     "metadata": {},
     "output_type": "execute_result"
    }
   ],
   "source": [
    "'-2'.isascii()"
   ]
  },
  {
   "cell_type": "code",
   "execution_count": 165,
   "id": "85bb265e",
   "metadata": {},
   "outputs": [
    {
     "data": {
      "text/plain": [
       "True"
      ]
     },
     "execution_count": 165,
     "metadata": {},
     "output_type": "execute_result"
    }
   ],
   "source": [
    "'@'.isascii()"
   ]
  },
  {
   "cell_type": "markdown",
   "id": "cc6e6ab8",
   "metadata": {},
   "source": [
    "#  4.isdecimal"
   ]
  },
  {
   "cell_type": "code",
   "execution_count": 128,
   "id": "0ca0a8fb",
   "metadata": {},
   "outputs": [
    {
     "data": {
      "text/plain": [
       "True"
      ]
     },
     "execution_count": 128,
     "metadata": {},
     "output_type": "execute_result"
    }
   ],
   "source": [
    "'1'.isdecimal()"
   ]
  },
  {
   "cell_type": "code",
   "execution_count": 131,
   "id": "5eadc773",
   "metadata": {},
   "outputs": [
    {
     "data": {
      "text/plain": [
       "False"
      ]
     },
     "execution_count": 131,
     "metadata": {},
     "output_type": "execute_result"
    }
   ],
   "source": [
    "'0.2'.isdecimal()"
   ]
  },
  {
   "cell_type": "code",
   "execution_count": 132,
   "id": "652585da",
   "metadata": {},
   "outputs": [
    {
     "data": {
      "text/plain": [
       "True"
      ]
     },
     "execution_count": 132,
     "metadata": {},
     "output_type": "execute_result"
    }
   ],
   "source": [
    "'25'.isdecimal()"
   ]
  },
  {
   "cell_type": "markdown",
   "id": "fc685d0f",
   "metadata": {},
   "source": [
    "# 5. isdigit"
   ]
  },
  {
   "cell_type": "code",
   "execution_count": 133,
   "id": "ccf956a0",
   "metadata": {},
   "outputs": [
    {
     "data": {
      "text/plain": [
       "False"
      ]
     },
     "execution_count": 133,
     "metadata": {},
     "output_type": "execute_result"
    }
   ],
   "source": [
    "'1.5'.isdigit()"
   ]
  },
  {
   "cell_type": "code",
   "execution_count": 134,
   "id": "c0bf4dd7",
   "metadata": {},
   "outputs": [
    {
     "data": {
      "text/plain": [
       "True"
      ]
     },
     "execution_count": 134,
     "metadata": {},
     "output_type": "execute_result"
    }
   ],
   "source": [
    "'1'.isdigit()"
   ]
  },
  {
   "cell_type": "code",
   "execution_count": 135,
   "id": "1e3af947",
   "metadata": {},
   "outputs": [
    {
     "data": {
      "text/plain": [
       "True"
      ]
     },
     "execution_count": 135,
     "metadata": {},
     "output_type": "execute_result"
    }
   ],
   "source": [
    "'25'.isdigit()"
   ]
  },
  {
   "cell_type": "markdown",
   "id": "13cbe9b7",
   "metadata": {},
   "source": [
    "#  6.isidentifier"
   ]
  },
  {
   "cell_type": "code",
   "execution_count": 136,
   "id": "43539b78",
   "metadata": {},
   "outputs": [
    {
     "data": {
      "text/plain": [
       "True"
      ]
     },
     "execution_count": 136,
     "metadata": {},
     "output_type": "execute_result"
    }
   ],
   "source": [
    "'Innomatics'.isidentifier()"
   ]
  },
  {
   "cell_type": "code",
   "execution_count": 137,
   "id": "a15a5ce5",
   "metadata": {},
   "outputs": [
    {
     "data": {
      "text/plain": [
       "False"
      ]
     },
     "execution_count": 137,
     "metadata": {},
     "output_type": "execute_result"
    }
   ],
   "source": [
    "'12345'.isidentifier()"
   ]
  },
  {
   "cell_type": "code",
   "execution_count": 138,
   "id": "eb695679",
   "metadata": {},
   "outputs": [
    {
     "data": {
      "text/plain": [
       "True"
      ]
     },
     "execution_count": 138,
     "metadata": {},
     "output_type": "execute_result"
    }
   ],
   "source": [
    "\"Mathematics\".isidentifier()"
   ]
  },
  {
   "cell_type": "markdown",
   "id": "87f9794a",
   "metadata": {},
   "source": [
    "#  7.islower"
   ]
  },
  {
   "cell_type": "code",
   "execution_count": 139,
   "id": "187a488f",
   "metadata": {},
   "outputs": [
    {
     "data": {
      "text/plain": [
       "False"
      ]
     },
     "execution_count": 139,
     "metadata": {},
     "output_type": "execute_result"
    }
   ],
   "source": [
    "\"STATISTICS\".islower()"
   ]
  },
  {
   "cell_type": "code",
   "execution_count": 140,
   "id": "4bbbd903",
   "metadata": {},
   "outputs": [
    {
     "data": {
      "text/plain": [
       "True"
      ]
     },
     "execution_count": 140,
     "metadata": {},
     "output_type": "execute_result"
    }
   ],
   "source": [
    "'statistics'.islower()"
   ]
  },
  {
   "cell_type": "code",
   "execution_count": 141,
   "id": "85eeedd3",
   "metadata": {},
   "outputs": [
    {
     "data": {
      "text/plain": [
       "False"
      ]
     },
     "execution_count": 141,
     "metadata": {},
     "output_type": "execute_result"
    }
   ],
   "source": [
    "'StAtiStics'.islower()"
   ]
  },
  {
   "cell_type": "markdown",
   "id": "73ffd9e6",
   "metadata": {},
   "source": [
    "# 8. isupper"
   ]
  },
  {
   "cell_type": "code",
   "execution_count": 142,
   "id": "da9f91c9",
   "metadata": {},
   "outputs": [
    {
     "data": {
      "text/plain": [
       "False"
      ]
     },
     "execution_count": 142,
     "metadata": {},
     "output_type": "execute_result"
    }
   ],
   "source": [
    "'shravani'.isupper()"
   ]
  },
  {
   "cell_type": "code",
   "execution_count": 144,
   "id": "4b6f78e7",
   "metadata": {},
   "outputs": [
    {
     "data": {
      "text/plain": [
       "True"
      ]
     },
     "execution_count": 144,
     "metadata": {},
     "output_type": "execute_result"
    }
   ],
   "source": [
    "'SHRAVANI'.isupper()"
   ]
  },
  {
   "cell_type": "code",
   "execution_count": 145,
   "id": "550591cc",
   "metadata": {},
   "outputs": [
    {
     "data": {
      "text/plain": [
       "False"
      ]
     },
     "execution_count": 145,
     "metadata": {},
     "output_type": "execute_result"
    }
   ],
   "source": [
    "'Shravani'.isupper()"
   ]
  },
  {
   "cell_type": "markdown",
   "id": "7d186ba1",
   "metadata": {},
   "source": [
    "# 9. isnumeric"
   ]
  },
  {
   "cell_type": "code",
   "execution_count": 147,
   "id": "e3af79e5",
   "metadata": {},
   "outputs": [
    {
     "data": {
      "text/plain": [
       "False"
      ]
     },
     "execution_count": 147,
     "metadata": {},
     "output_type": "execute_result"
    }
   ],
   "source": [
    "'abc'.isnumeric()"
   ]
  },
  {
   "cell_type": "code",
   "execution_count": 148,
   "id": "4c8db90e",
   "metadata": {},
   "outputs": [
    {
     "data": {
      "text/plain": [
       "True"
      ]
     },
     "execution_count": 148,
     "metadata": {},
     "output_type": "execute_result"
    }
   ],
   "source": [
    "'12345'.isnumeric()"
   ]
  },
  {
   "cell_type": "code",
   "execution_count": 149,
   "id": "21e67009",
   "metadata": {},
   "outputs": [
    {
     "data": {
      "text/plain": [
       "False"
      ]
     },
     "execution_count": 149,
     "metadata": {},
     "output_type": "execute_result"
    }
   ],
   "source": [
    "'abc1234'.isnumeric()"
   ]
  },
  {
   "cell_type": "markdown",
   "id": "2dfc62c8",
   "metadata": {},
   "source": [
    "# 10.isprintable"
   ]
  },
  {
   "cell_type": "code",
   "execution_count": 150,
   "id": "168fee69",
   "metadata": {},
   "outputs": [
    {
     "data": {
      "text/plain": [
       "True"
      ]
     },
     "execution_count": 150,
     "metadata": {},
     "output_type": "execute_result"
    }
   ],
   "source": [
    "''.isprintable()"
   ]
  },
  {
   "cell_type": "code",
   "execution_count": 151,
   "id": "d814f7c0",
   "metadata": {},
   "outputs": [
    {
     "data": {
      "text/plain": [
       "True"
      ]
     },
     "execution_count": 151,
     "metadata": {},
     "output_type": "execute_result"
    }
   ],
   "source": [
    "'abc12345'.isprintable()"
   ]
  },
  {
   "cell_type": "code",
   "execution_count": 166,
   "id": "dc36e490",
   "metadata": {},
   "outputs": [
    {
     "ename": "NameError",
     "evalue": "name 'abc' is not defined",
     "output_type": "error",
     "traceback": [
      "\u001b[1;31m---------------------------------------------------------------------------\u001b[0m",
      "\u001b[1;31mNameError\u001b[0m                                 Traceback (most recent call last)",
      "Cell \u001b[1;32mIn[166], line 1\u001b[0m\n\u001b[1;32m----> 1\u001b[0m abc\u001b[38;5;241m.\u001b[39misprintable()\n",
      "\u001b[1;31mNameError\u001b[0m: name 'abc' is not defined"
     ]
    }
   ],
   "source": [
    "abc.isprintable()"
   ]
  },
  {
   "cell_type": "code",
   "execution_count": 153,
   "id": "9f8b5d09",
   "metadata": {},
   "outputs": [
    {
     "data": {
      "text/plain": [
       "True"
      ]
     },
     "execution_count": 153,
     "metadata": {},
     "output_type": "execute_result"
    }
   ],
   "source": [
    "'abcc'.isprintable()"
   ]
  },
  {
   "cell_type": "code",
   "execution_count": 154,
   "id": "6eec475d",
   "metadata": {},
   "outputs": [
    {
     "data": {
      "text/plain": [
       "True"
      ]
     },
     "execution_count": 154,
     "metadata": {},
     "output_type": "execute_result"
    }
   ],
   "source": [
    "'@$%&*'.isprintable()"
   ]
  },
  {
   "cell_type": "markdown",
   "id": "a168d424",
   "metadata": {},
   "source": [
    "#  11.isspace"
   ]
  },
  {
   "cell_type": "code",
   "execution_count": 155,
   "id": "9c4d6fe6",
   "metadata": {},
   "outputs": [
    {
     "data": {
      "text/plain": [
       "False"
      ]
     },
     "execution_count": 155,
     "metadata": {},
     "output_type": "execute_result"
    }
   ],
   "source": [
    "'Mathematics'.isspace()"
   ]
  },
  {
   "cell_type": "code",
   "execution_count": 157,
   "id": "d435c1ad",
   "metadata": {},
   "outputs": [
    {
     "data": {
      "text/plain": [
       "False"
      ]
     },
     "execution_count": 157,
     "metadata": {},
     "output_type": "execute_result"
    }
   ],
   "source": [
    "'Mathe   matics'.isspace()"
   ]
  },
  {
   "cell_type": "code",
   "execution_count": 158,
   "id": "05be88d0",
   "metadata": {},
   "outputs": [
    {
     "data": {
      "text/plain": [
       "False"
      ]
     },
     "execution_count": 158,
     "metadata": {},
     "output_type": "execute_result"
    }
   ],
   "source": [
    "'a'.isspace()"
   ]
  },
  {
   "cell_type": "code",
   "execution_count": 159,
   "id": "7a75b42b",
   "metadata": {},
   "outputs": [
    {
     "data": {
      "text/plain": [
       "True"
      ]
     },
     "execution_count": 159,
     "metadata": {},
     "output_type": "execute_result"
    }
   ],
   "source": [
    "'\\n'.isspace()"
   ]
  },
  {
   "cell_type": "markdown",
   "id": "4d008aac",
   "metadata": {},
   "source": [
    "# 12. istitle"
   ]
  },
  {
   "cell_type": "code",
   "execution_count": 160,
   "id": "8418405e",
   "metadata": {},
   "outputs": [
    {
     "data": {
      "text/plain": [
       "False"
      ]
     },
     "execution_count": 160,
     "metadata": {},
     "output_type": "execute_result"
    }
   ],
   "source": [
    "'play it my way'.istitle()"
   ]
  },
  {
   "cell_type": "code",
   "execution_count": 161,
   "id": "25228221",
   "metadata": {},
   "outputs": [
    {
     "data": {
      "text/plain": [
       "True"
      ]
     },
     "execution_count": 161,
     "metadata": {},
     "output_type": "execute_result"
    }
   ],
   "source": [
    "'Play It My Way'.istitle()"
   ]
  },
  {
   "cell_type": "code",
   "execution_count": 162,
   "id": "a93302b6",
   "metadata": {},
   "outputs": [
    {
     "data": {
      "text/plain": [
       "False"
      ]
     },
     "execution_count": 162,
     "metadata": {},
     "output_type": "execute_result"
    }
   ],
   "source": [
    "'Play it my way'.istitle()"
   ]
  },
  {
   "cell_type": "code",
   "execution_count": null,
   "id": "8ece4c34",
   "metadata": {},
   "outputs": [],
   "source": []
  }
 ],
 "metadata": {
  "kernelspec": {
   "display_name": "Python 3 (ipykernel)",
   "language": "python",
   "name": "python3"
  },
  "language_info": {
   "codemirror_mode": {
    "name": "ipython",
    "version": 3
   },
   "file_extension": ".py",
   "mimetype": "text/x-python",
   "name": "python",
   "nbconvert_exporter": "python",
   "pygments_lexer": "ipython3",
   "version": "3.11.3"
  }
 },
 "nbformat": 4,
 "nbformat_minor": 5
}
