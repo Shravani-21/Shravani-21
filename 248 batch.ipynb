{
 "cells": [
  {
   "cell_type": "code",
   "execution_count": 1,
   "id": "9e12672e",
   "metadata": {},
   "outputs": [
    {
     "name": "stdout",
     "output_type": "stream",
     "text": [
      "140728272851880 5\n",
      "1659792174832 hi\n",
      "140728271383072 True\n"
     ]
    }
   ],
   "source": [
    "x=5 \n",
    "print(id(x),x)\n",
    "x='hi'\n",
    "print(id(x),x)\n",
    "x=True\n",
    "print(id(x),x)"
   ]
  },
  {
   "cell_type": "code",
   "execution_count": 2,
   "id": "31e122fa",
   "metadata": {},
   "outputs": [
    {
     "data": {
      "text/plain": [
       "140728271593432"
      ]
     },
     "execution_count": 2,
     "metadata": {},
     "output_type": "execute_result"
    }
   ],
   "source": [
    "id('x')"
   ]
  },
  {
   "cell_type": "code",
   "execution_count": 3,
   "id": "9ae5cf85",
   "metadata": {},
   "outputs": [
    {
     "data": {
      "text/plain": [
       "1659792174832"
      ]
     },
     "execution_count": 3,
     "metadata": {},
     "output_type": "execute_result"
    }
   ],
   "source": [
    "id('hi')"
   ]
  },
  {
   "cell_type": "code",
   "execution_count": 4,
   "id": "43c3a652",
   "metadata": {},
   "outputs": [],
   "source": [
    "import keyword\n",
    "from keyword import kwlist"
   ]
  },
  {
   "cell_type": "code",
   "execution_count": 5,
   "id": "14a5ef50",
   "metadata": {},
   "outputs": [
    {
     "name": "stdout",
     "output_type": "stream",
     "text": [
      "['False', 'None', 'True', 'and', 'as', 'assert', 'async', 'await', 'break', 'class', 'continue', 'def', 'del', 'elif', 'else', 'except', 'finally', 'for', 'from', 'global', 'if', 'import', 'in', 'is', 'lambda', 'nonlocal', 'not', 'or', 'pass', 'raise', 'return', 'try', 'while', 'with', 'yield']\n"
     ]
    }
   ],
   "source": [
    "print(kwlist)"
   ]
  },
  {
   "cell_type": "code",
   "execution_count": 6,
   "id": "d081ffff",
   "metadata": {},
   "outputs": [
    {
     "data": {
      "text/plain": [
       "35"
      ]
     },
     "execution_count": 6,
     "metadata": {},
     "output_type": "execute_result"
    }
   ],
   "source": [
    "len(kwlist)\n",
    "#we have 35 keywords in python"
   ]
  },
  {
   "cell_type": "code",
   "execution_count": 7,
   "id": "9e700b4f",
   "metadata": {},
   "outputs": [],
   "source": [
    "a=56\n",
    "b=76\n",
    "c=45"
   ]
  },
  {
   "cell_type": "code",
   "execution_count": 8,
   "id": "cf8796ca",
   "metadata": {},
   "outputs": [
    {
     "data": {
      "text/plain": [
       "56"
      ]
     },
     "execution_count": 8,
     "metadata": {},
     "output_type": "execute_result"
    }
   ],
   "source": [
    "a"
   ]
  },
  {
   "cell_type": "code",
   "execution_count": 9,
   "id": "6fa715aa",
   "metadata": {},
   "outputs": [
    {
     "data": {
      "text/plain": [
       "76"
      ]
     },
     "execution_count": 9,
     "metadata": {},
     "output_type": "execute_result"
    }
   ],
   "source": [
    "a\n",
    "b"
   ]
  },
  {
   "cell_type": "code",
   "execution_count": 10,
   "id": "e0886b84",
   "metadata": {},
   "outputs": [
    {
     "name": "stdout",
     "output_type": "stream",
     "text": [
      "56\n",
      "76\n",
      "45\n"
     ]
    }
   ],
   "source": [
    "print(a)\n",
    "print(b)\n",
    "print(c)"
   ]
  },
  {
   "cell_type": "code",
   "execution_count": 11,
   "id": "1ef238e5",
   "metadata": {},
   "outputs": [
    {
     "name": "stdout",
     "output_type": "stream",
     "text": [
      "56 76 45\n"
     ]
    }
   ],
   "source": [
    "print(a,b,c)"
   ]
  },
  {
   "cell_type": "code",
   "execution_count": 13,
   "id": "78af1e50",
   "metadata": {},
   "outputs": [
    {
     "name": "stdout",
     "output_type": "stream",
     "text": [
      "56*76||45\n"
     ]
    }
   ],
   "source": [
    "print(a,b,sep='*',end='||')\n",
    "print(c)"
   ]
  },
  {
   "cell_type": "code",
   "execution_count": 3,
   "id": "778aa716",
   "metadata": {},
   "outputs": [
    {
     "name": "stdout",
     "output_type": "stream",
     "text": [
      "140706923254728 6\n",
      "140706923254760 7\n",
      "2391283249904 hi\n"
     ]
    }
   ],
   "source": [
    "x=6\n",
    "y=7\n",
    "print(id(x),x)\n",
    "print(id(y),y)\n",
    "x='hi'\n",
    "print(id(x),x)"
   ]
  },
  {
   "cell_type": "code",
   "execution_count": 4,
   "id": "1dbe44f8",
   "metadata": {},
   "outputs": [
    {
     "data": {
      "text/plain": [
       "2391283249904"
      ]
     },
     "execution_count": 4,
     "metadata": {},
     "output_type": "execute_result"
    }
   ],
   "source": [
    "id(x)"
   ]
  },
  {
   "cell_type": "code",
   "execution_count": 5,
   "id": "8a93965c",
   "metadata": {},
   "outputs": [
    {
     "data": {
      "text/plain": [
       "140706923254760"
      ]
     },
     "execution_count": 5,
     "metadata": {},
     "output_type": "execute_result"
    }
   ],
   "source": [
    "id(y)"
   ]
  },
  {
   "cell_type": "code",
   "execution_count": 6,
   "id": "49642038",
   "metadata": {},
   "outputs": [
    {
     "data": {
      "text/plain": [
       "2391283249904"
      ]
     },
     "execution_count": 6,
     "metadata": {},
     "output_type": "execute_result"
    }
   ],
   "source": [
    "id('hi')"
   ]
  },
  {
   "cell_type": "code",
   "execution_count": 7,
   "id": "cc5ded44",
   "metadata": {},
   "outputs": [
    {
     "name": "stdout",
     "output_type": "stream",
     "text": [
      "45 67 87\n"
     ]
    }
   ],
   "source": [
    "x=45\n",
    "y=67\n",
    "z=87\n",
    "print(x,y,z)"
   ]
  },
  {
   "cell_type": "code",
   "execution_count": 8,
   "id": "bda03824",
   "metadata": {},
   "outputs": [
    {
     "name": "stdout",
     "output_type": "stream",
     "text": [
      "45\n",
      "67\n",
      "87\n"
     ]
    }
   ],
   "source": [
    "print(x)\n",
    "print(y)\n",
    "print(z)"
   ]
  },
  {
   "cell_type": "code",
   "execution_count": 13,
   "id": "4412b73a",
   "metadata": {},
   "outputs": [
    {
     "name": "stdout",
     "output_type": "stream",
     "text": [
      "45*87//67\n"
     ]
    }
   ],
   "source": [
    "print(x,z,sep='*', end='//')\n",
    "print(y)"
   ]
  },
  {
   "cell_type": "code",
   "execution_count": 14,
   "id": "9bb9e1d6",
   "metadata": {},
   "outputs": [],
   "source": [
    "import keyword\n",
    "from keyword import kwlist"
   ]
  },
  {
   "cell_type": "code",
   "execution_count": 16,
   "id": "a80f2303",
   "metadata": {},
   "outputs": [
    {
     "name": "stdout",
     "output_type": "stream",
     "text": [
      "['False', 'None', 'True', 'and', 'as', 'assert', 'async', 'await', 'break', 'class', 'continue', 'def', 'del', 'elif', 'else', 'except', 'finally', 'for', 'from', 'global', 'if', 'import', 'in', 'is', 'lambda', 'nonlocal', 'not', 'or', 'pass', 'raise', 'return', 'try', 'while', 'with', 'yield']\n"
     ]
    }
   ],
   "source": [
    "print(kwlist)"
   ]
  },
  {
   "cell_type": "code",
   "execution_count": 17,
   "id": "fecca600",
   "metadata": {},
   "outputs": [
    {
     "data": {
      "text/plain": [
       "35"
      ]
     },
     "execution_count": 17,
     "metadata": {},
     "output_type": "execute_result"
    }
   ],
   "source": [
    "len(kwlist)"
   ]
  },
  {
   "cell_type": "code",
   "execution_count": 25,
   "id": "6979ce73",
   "metadata": {},
   "outputs": [
    {
     "name": "stdout",
     "output_type": "stream",
     "text": [
      "hi hello good morning\n",
      "68\n",
      "1\n"
     ]
    }
   ],
   "source": [
    "x='hi'\n",
    "y='hello'\n",
    "z='good morning'\n",
    "print(x,y,z)\n",
    "x=56\n",
    "y=6\n",
    "z=6\n",
    "print(x+y+z)\n",
    "print(x//y//z)"
   ]
  },
  {
   "cell_type": "code",
   "execution_count": 27,
   "id": "48cda6c6",
   "metadata": {},
   "outputs": [
    {
     "name": "stdout",
     "output_type": "stream",
     "text": [
      "180\n"
     ]
    }
   ],
   "source": [
    "x=6\n",
    "y=6\n",
    "z=5\n",
    "print(x*y*z)\n"
   ]
  },
  {
   "cell_type": "code",
   "execution_count": 22,
   "id": "801eedec",
   "metadata": {},
   "outputs": [
    {
     "name": "stdout",
     "output_type": "stream",
     "text": [
      "0.2\n"
     ]
    }
   ],
   "source": [
    "print(x/y/z)"
   ]
  },
  {
   "cell_type": "code",
   "execution_count": 23,
   "id": "631050c8",
   "metadata": {},
   "outputs": [
    {
     "name": "stdout",
     "output_type": "stream",
     "text": [
      "-5\n"
     ]
    }
   ],
   "source": [
    "print(x-y-z)"
   ]
  },
  {
   "cell_type": "code",
   "execution_count": 24,
   "id": "b19f8996",
   "metadata": {},
   "outputs": [
    {
     "name": "stdout",
     "output_type": "stream",
     "text": [
      "0\n"
     ]
    }
   ],
   "source": [
    "print(x//y//z) #floor division"
   ]
  },
  {
   "cell_type": "code",
   "execution_count": 28,
   "id": "bc5cebe0",
   "metadata": {},
   "outputs": [
    {
     "name": "stdout",
     "output_type": "stream",
     "text": [
      "0\n"
     ]
    }
   ],
   "source": [
    "print(x%y%z)"
   ]
  },
  {
   "cell_type": "code",
   "execution_count": 29,
   "id": "00b13a93",
   "metadata": {},
   "outputs": [
    {
     "name": "stdout",
     "output_type": "stream",
     "text": [
      "2.0\n"
     ]
    }
   ],
   "source": [
    "x=2\n",
    "y=4\n",
    "print(y/x)"
   ]
  },
  {
   "cell_type": "code",
   "execution_count": 30,
   "id": "5fc919e0",
   "metadata": {},
   "outputs": [
    {
     "name": "stdout",
     "output_type": "stream",
     "text": [
      "1\n"
     ]
    }
   ],
   "source": [
    "x=5\n",
    "y=3\n",
    "print(x//y)"
   ]
  },
  {
   "cell_type": "code",
   "execution_count": 31,
   "id": "faf763b0",
   "metadata": {},
   "outputs": [
    {
     "name": "stdout",
     "output_type": "stream",
     "text": [
      "8\n"
     ]
    }
   ],
   "source": [
    "x=2\n",
    "y=3\n",
    "print(x**y)"
   ]
  },
  {
   "cell_type": "code",
   "execution_count": 32,
   "id": "93b4bd75",
   "metadata": {},
   "outputs": [
    {
     "data": {
      "text/plain": [
       "False"
      ]
     },
     "execution_count": 32,
     "metadata": {},
     "output_type": "execute_result"
    }
   ],
   "source": [
    "x=10\n",
    "y=15\n",
    "x==y #equals to"
   ]
  },
  {
   "cell_type": "code",
   "execution_count": 33,
   "id": "29503601",
   "metadata": {},
   "outputs": [
    {
     "data": {
      "text/plain": [
       "True"
      ]
     },
     "execution_count": 33,
     "metadata": {},
     "output_type": "execute_result"
    }
   ],
   "source": [
    "x!=y #not equals to"
   ]
  },
  {
   "cell_type": "code",
   "execution_count": 34,
   "id": "7cf160d7",
   "metadata": {},
   "outputs": [
    {
     "data": {
      "text/plain": [
       "False"
      ]
     },
     "execution_count": 34,
     "metadata": {},
     "output_type": "execute_result"
    }
   ],
   "source": [
    "x>y #greaterthan"
   ]
  },
  {
   "cell_type": "code",
   "execution_count": 35,
   "id": "92455521",
   "metadata": {},
   "outputs": [
    {
     "data": {
      "text/plain": [
       "True"
      ]
     },
     "execution_count": 35,
     "metadata": {},
     "output_type": "execute_result"
    }
   ],
   "source": [
    "x<y #lessthan"
   ]
  },
  {
   "cell_type": "code",
   "execution_count": 38,
   "id": "e6604af0",
   "metadata": {},
   "outputs": [
    {
     "data": {
      "text/plain": [
       "True"
      ]
     },
     "execution_count": 38,
     "metadata": {},
     "output_type": "execute_result"
    }
   ],
   "source": [
    "x=10\n",
    "y=15\n",
    "x>=y #greaterthan orequals to\n"
   ]
  },
  {
   "cell_type": "code",
   "execution_count": 39,
   "id": "23b6571b",
   "metadata": {},
   "outputs": [
    {
     "data": {
      "text/plain": [
       "True"
      ]
     },
     "execution_count": 39,
     "metadata": {},
     "output_type": "execute_result"
    }
   ],
   "source": [
    "x=10\n",
    "y=15\n",
    "x<=y #lessthan or equals to"
   ]
  },
  {
   "cell_type": "code",
   "execution_count": 40,
   "id": "cbcfd288",
   "metadata": {},
   "outputs": [
    {
     "data": {
      "text/plain": [
       "False"
      ]
     },
     "execution_count": 40,
     "metadata": {},
     "output_type": "execute_result"
    }
   ],
   "source": [
    "x,y='hi','hello'\n",
    "x==y"
   ]
  },
  {
   "cell_type": "code",
   "execution_count": 41,
   "id": "f1fa9682",
   "metadata": {},
   "outputs": [
    {
     "data": {
      "text/plain": [
       "True"
      ]
     },
     "execution_count": 41,
     "metadata": {},
     "output_type": "execute_result"
    }
   ],
   "source": [
    "x!=y"
   ]
  },
  {
   "cell_type": "code",
   "execution_count": 46,
   "id": "d0420f42",
   "metadata": {},
   "outputs": [
    {
     "data": {
      "text/plain": [
       "True"
      ]
     },
     "execution_count": 46,
     "metadata": {},
     "output_type": "execute_result"
    }
   ],
   "source": [
    "a='hi'\n",
    "b='hi'\n",
    "c=[1,2,3]\n",
    "d=[1,2,3]\n",
    "a==b\n"
   ]
  },
  {
   "cell_type": "code",
   "execution_count": 45,
   "id": "0392c1d6",
   "metadata": {},
   "outputs": [
    {
     "data": {
      "text/plain": [
       "True"
      ]
     },
     "execution_count": 45,
     "metadata": {},
     "output_type": "execute_result"
    }
   ],
   "source": [
    "c==d"
   ]
  },
  {
   "cell_type": "code",
   "execution_count": 48,
   "id": "e40063a9",
   "metadata": {},
   "outputs": [
    {
     "name": "stdout",
     "output_type": "stream",
     "text": [
      "2391283249904 2391283249904\n"
     ]
    }
   ],
   "source": [
    "print(id(a), id(b))"
   ]
  },
  {
   "cell_type": "code",
   "execution_count": 49,
   "id": "6c2f93ad",
   "metadata": {},
   "outputs": [
    {
     "name": "stdout",
     "output_type": "stream",
     "text": [
      "True\n"
     ]
    }
   ],
   "source": [
    "print(a is b)\n"
   ]
  },
  {
   "cell_type": "code",
   "execution_count": 50,
   "id": "7a5a0b0c",
   "metadata": {},
   "outputs": [
    {
     "name": "stdout",
     "output_type": "stream",
     "text": [
      "2391388390464 2391388598848\n"
     ]
    }
   ],
   "source": [
    "print(id(c),id(d))"
   ]
  },
  {
   "cell_type": "code",
   "execution_count": 51,
   "id": "f8364e71",
   "metadata": {},
   "outputs": [
    {
     "name": "stdout",
     "output_type": "stream",
     "text": [
      "False\n"
     ]
    }
   ],
   "source": [
    "print(c is d)"
   ]
  },
  {
   "cell_type": "code",
   "execution_count": 52,
   "id": "52a3d32a",
   "metadata": {},
   "outputs": [
    {
     "name": "stdout",
     "output_type": "stream",
     "text": [
      "False\n"
     ]
    }
   ],
   "source": [
    "print(a is not b)"
   ]
  },
  {
   "cell_type": "code",
   "execution_count": null,
   "id": "89249a92",
   "metadata": {},
   "outputs": [],
   "source": []
  },
  {
   "cell_type": "code",
   "execution_count": 66,
   "id": "45099b3f",
   "metadata": {},
   "outputs": [
    {
     "name": "stdout",
     "output_type": "stream",
     "text": [
      "False\n",
      "True\n",
      "False\n",
      "False\n",
      "True\n",
      "True\n"
     ]
    }
   ],
   "source": [
    "a= 'iam going to out side'\n",
    "b='iam unhealthy today'\n",
    "print (a> b)\n",
    "print(a<b)\n",
    "print(a>b and a<b)\n",
    "print(a<b and a>b)\n",
    "print(a<b or a>b)\n",
    "print(a>b or a<b)\n"
   ]
  },
  {
   "cell_type": "code",
   "execution_count": 62,
   "id": "e8a6cc20",
   "metadata": {},
   "outputs": [
    {
     "ename": "SyntaxError",
     "evalue": "incomplete input (504178950.py, line 3)",
     "output_type": "error",
     "traceback": [
      "\u001b[1;36m  Cell \u001b[1;32mIn[62], line 3\u001b[1;36m\u001b[0m\n\u001b[1;33m    if(c>1 and c<1):\u001b[0m\n\u001b[1;37m                    ^\u001b[0m\n\u001b[1;31mSyntaxError\u001b[0m\u001b[1;31m:\u001b[0m incomplete input\n"
     ]
    }
   ],
   "source": [
    "a=3\n",
    "b=5\n",
    "if(c>1 and c<1):"
   ]
  },
  {
   "cell_type": "code",
   "execution_count": 68,
   "id": "b8df5e09",
   "metadata": {},
   "outputs": [
    {
     "data": {
      "text/plain": [
       "True"
      ]
     },
     "execution_count": 68,
     "metadata": {},
     "output_type": "execute_result"
    }
   ],
   "source": [
    "'1' in '1,2,3'"
   ]
  },
  {
   "cell_type": "code",
   "execution_count": 70,
   "id": "7140f370",
   "metadata": {},
   "outputs": [
    {
     "name": "stdout",
     "output_type": "stream",
     "text": [
      "False\n",
      "True\n"
     ]
    }
   ],
   "source": [
    "print(1 not in [1,2,3])\n",
    "print(1 in [1,2,3])"
   ]
  },
  {
   "cell_type": "markdown",
   "id": "f0936abb",
   "metadata": {},
   "source": [
    "### bitwise operator "
   ]
  },
  {
   "cell_type": "code",
   "execution_count": 76,
   "id": "7b50519c",
   "metadata": {},
   "outputs": [
    {
     "name": "stdout",
     "output_type": "stream",
     "text": [
      "5\n",
      "7\n",
      "2\n",
      "-8\n",
      "0\n"
     ]
    }
   ],
   "source": [
    "print(5&7)#bitwise and\n",
    "print(5|7)#bitwise or\n",
    "print(5^7)#bitwise nor\n",
    "print(~7)#bitwise  not\n",
    "print(~-1)#bitwise not"
   ]
  },
  {
   "cell_type": "markdown",
   "id": "255a570a",
   "metadata": {},
   "source": [
    "~x=-(x+1) formula"
   ]
  },
  {
   "cell_type": "code",
   "execution_count": 77,
   "id": "2fc42f97",
   "metadata": {},
   "outputs": [
    {
     "data": {
      "text/plain": [
       "-9"
      ]
     },
     "execution_count": 77,
     "metadata": {},
     "output_type": "execute_result"
    }
   ],
   "source": [
    "(~8)"
   ]
  },
  {
   "cell_type": "markdown",
   "id": "7d81f947",
   "metadata": {},
   "source": [
    "leftshift"
   ]
  },
  {
   "cell_type": "code",
   "execution_count": 78,
   "id": "0797547c",
   "metadata": {},
   "outputs": [
    {
     "data": {
      "text/plain": [
       "144"
      ]
     },
     "execution_count": 78,
     "metadata": {},
     "output_type": "execute_result"
    }
   ],
   "source": [
    "9<<4"
   ]
  },
  {
   "cell_type": "raw",
   "id": "85165c2e",
   "metadata": {},
   "source": [
    "rightshift"
   ]
  },
  {
   "cell_type": "code",
   "execution_count": 80,
   "id": "106249e7",
   "metadata": {},
   "outputs": [
    {
     "data": {
      "text/plain": [
       "0"
      ]
     },
     "execution_count": 80,
     "metadata": {},
     "output_type": "execute_result"
    }
   ],
   "source": [
    "3>>2"
   ]
  },
  {
   "cell_type": "code",
   "execution_count": null,
   "id": "6a65c331",
   "metadata": {},
   "outputs": [],
   "source": []
  }
 ],
 "metadata": {
  "kernelspec": {
   "display_name": "Python 3 (ipykernel)",
   "language": "python",
   "name": "python3"
  },
  "language_info": {
   "codemirror_mode": {
    "name": "ipython",
    "version": 3
   },
   "file_extension": ".py",
   "mimetype": "text/x-python",
   "name": "python",
   "nbconvert_exporter": "python",
   "pygments_lexer": "ipython3",
   "version": "3.11.3"
  }
 },
 "nbformat": 4,
 "nbformat_minor": 5
}
